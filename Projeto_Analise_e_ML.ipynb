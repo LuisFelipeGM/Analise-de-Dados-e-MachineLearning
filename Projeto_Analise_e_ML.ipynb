{
  "cells": [
    {
      "cell_type": "markdown",
      "metadata": {
        "id": "uITAA1hyTHpE"
      },
      "source": [
        "#Global Solution - IA e Machine Learning "
      ]
    },
    {
      "cell_type": "markdown",
      "metadata": {
        "id": "IuWJiOIUZt5X"
      },
      "source": [
        "#Robô SCITOS G5 - sensor_readings_24.csv"
      ]
    },
    {
      "cell_type": "code",
      "execution_count": null,
      "metadata": {
        "id": "8vtmosPwX0lX"
      },
      "outputs": [],
      "source": [
        "#Imports\n",
        "import numpy as np\n",
        "import pandas as pd"
      ]
    },
    {
      "cell_type": "code",
      "execution_count": null,
      "metadata": {
        "id": "_Gwd7tlXMbcT"
      },
      "outputs": [],
      "source": [
        "data = pd.read_csv(\"sensor_readings_24.csv\")"
      ]
    },
    {
      "cell_type": "markdown",
      "metadata": {
        "id": "g30nDM3-eFcy"
      },
      "source": [
        "##Verificando se a dados faltantes e duplicadas\n",
        "\n"
      ]
    },
    {
      "cell_type": "code",
      "execution_count": null,
      "metadata": {
        "colab": {
          "base_uri": "https://localhost:8080/"
        },
        "id": "r0VXCBoaeLcK",
        "outputId": "cf980d0e-6bd9-4cc0-fa52-a8505b6e80e9"
      },
      "outputs": [
        {
          "data": {
            "text/plain": [
              "sensor_1       14\n",
              "sensor_2       14\n",
              "sensor_3       14\n",
              "sensor_4       14\n",
              "sensor_5       14\n",
              "sensor_6       14\n",
              "sensor_7       14\n",
              "sensor_8       14\n",
              "sensor_9       14\n",
              "sensor_10      14\n",
              "sensor_11      14\n",
              "sensor_12      14\n",
              "sensor_13      14\n",
              "sensor_14      14\n",
              "sensor_15      14\n",
              "sensor_16      14\n",
              "sensor_17      14\n",
              "sensor_18      14\n",
              "sensor_19      14\n",
              "sensor_20      14\n",
              "sensor_21      14\n",
              "sensor_22      14\n",
              "sensor_23      14\n",
              "sensor_24      14\n",
              "funcao_robo    14\n",
              "dtype: int64"
            ]
          },
          "execution_count": 373,
          "metadata": {},
          "output_type": "execute_result"
        }
      ],
      "source": [
        "# Verificando se a dados nulos\n",
        "\n",
        "data.isnull().sum()"
      ]
    },
    {
      "cell_type": "code",
      "execution_count": null,
      "metadata": {
        "id": "D1JWxpTZfUUq"
      },
      "outputs": [],
      "source": [
        "#DROPAR AS LINHAS COM DADOS FALTANTES\n",
        "data.dropna(inplace=True)"
      ]
    },
    {
      "cell_type": "code",
      "execution_count": null,
      "metadata": {
        "colab": {
          "base_uri": "https://localhost:8080/"
        },
        "id": "2FkhCspAjGPf",
        "outputId": "a2dcc147-395a-4c24-9721-3921f3ec2511"
      },
      "outputs": [
        {
          "data": {
            "text/plain": [
              "sensor_1       0\n",
              "sensor_2       0\n",
              "sensor_3       0\n",
              "sensor_4       0\n",
              "sensor_5       0\n",
              "sensor_6       0\n",
              "sensor_7       0\n",
              "sensor_8       0\n",
              "sensor_9       0\n",
              "sensor_10      0\n",
              "sensor_11      0\n",
              "sensor_12      0\n",
              "sensor_13      0\n",
              "sensor_14      0\n",
              "sensor_15      0\n",
              "sensor_16      0\n",
              "sensor_17      0\n",
              "sensor_18      0\n",
              "sensor_19      0\n",
              "sensor_20      0\n",
              "sensor_21      0\n",
              "sensor_22      0\n",
              "sensor_23      0\n",
              "sensor_24      0\n",
              "funcao_robo    0\n",
              "dtype: int64"
            ]
          },
          "execution_count": 375,
          "metadata": {},
          "output_type": "execute_result"
        }
      ],
      "source": [
        "# Verificando se a dados nulos\n",
        "data.isnull().sum()"
      ]
    },
    {
      "cell_type": "code",
      "execution_count": null,
      "metadata": {
        "colab": {
          "base_uri": "https://localhost:8080/"
        },
        "id": "Et9j-UjdfJGA",
        "outputId": "b69544c0-b528-4cd9-b37e-2fbc3034e9e3"
      },
      "outputs": [
        {
          "name": "stdout",
          "output_type": "stream",
          "text": [
            "None\n"
          ]
        }
      ],
      "source": [
        "# Verificando se a Dados Repetidos\n",
        "duplicadas = data.drop_duplicates(inplace=True)\n",
        "print(duplicadas)"
      ]
    },
    {
      "cell_type": "markdown",
      "metadata": {
        "id": "8zV6T3WH8FUg"
      },
      "source": [
        "##Análise Exploratória"
      ]
    },
    {
      "cell_type": "code",
      "execution_count": null,
      "metadata": {
        "colab": {
          "base_uri": "https://localhost:8080/",
          "height": 386
        },
        "id": "08lrLX1gRpra",
        "outputId": "eee39692-566d-4f09-898a-7f086d98c481"
      },
      "outputs": [
        {
          "data": {
            "text/html": [
              "\n",
              "  <div id=\"df-e335d80a-bb4e-49dc-aba4-12d42125fb79\">\n",
              "    <div class=\"colab-df-container\">\n",
              "      <div>\n",
              "<style scoped>\n",
              "    .dataframe tbody tr th:only-of-type {\n",
              "        vertical-align: middle;\n",
              "    }\n",
              "\n",
              "    .dataframe tbody tr th {\n",
              "        vertical-align: top;\n",
              "    }\n",
              "\n",
              "    .dataframe thead th {\n",
              "        text-align: right;\n",
              "    }\n",
              "</style>\n",
              "<table border=\"1\" class=\"dataframe\">\n",
              "  <thead>\n",
              "    <tr style=\"text-align: right;\">\n",
              "      <th></th>\n",
              "      <th>sensor_1</th>\n",
              "      <th>sensor_2</th>\n",
              "      <th>sensor_3</th>\n",
              "      <th>sensor_4</th>\n",
              "      <th>sensor_5</th>\n",
              "      <th>sensor_6</th>\n",
              "      <th>sensor_7</th>\n",
              "      <th>sensor_8</th>\n",
              "      <th>sensor_9</th>\n",
              "      <th>sensor_10</th>\n",
              "      <th>...</th>\n",
              "      <th>sensor_16</th>\n",
              "      <th>sensor_17</th>\n",
              "      <th>sensor_18</th>\n",
              "      <th>sensor_19</th>\n",
              "      <th>sensor_20</th>\n",
              "      <th>sensor_21</th>\n",
              "      <th>sensor_22</th>\n",
              "      <th>sensor_23</th>\n",
              "      <th>sensor_24</th>\n",
              "      <th>funcao_robo</th>\n",
              "    </tr>\n",
              "  </thead>\n",
              "  <tbody>\n",
              "    <tr>\n",
              "      <th>0</th>\n",
              "      <td>0.438</td>\n",
              "      <td>0.498</td>\n",
              "      <td>3.625</td>\n",
              "      <td>3.645</td>\n",
              "      <td>5.0</td>\n",
              "      <td>2.918</td>\n",
              "      <td>5.0</td>\n",
              "      <td>2.351</td>\n",
              "      <td>2.332</td>\n",
              "      <td>2.643</td>\n",
              "      <td>...</td>\n",
              "      <td>0.593</td>\n",
              "      <td>0.502</td>\n",
              "      <td>0.493</td>\n",
              "      <td>0.504</td>\n",
              "      <td>0.445</td>\n",
              "      <td>0.431</td>\n",
              "      <td>0.444</td>\n",
              "      <td>0.440</td>\n",
              "      <td>0.429</td>\n",
              "      <td>Slight-Right-Turn</td>\n",
              "    </tr>\n",
              "    <tr>\n",
              "      <th>1</th>\n",
              "      <td>0.438</td>\n",
              "      <td>0.498</td>\n",
              "      <td>3.625</td>\n",
              "      <td>3.648</td>\n",
              "      <td>5.0</td>\n",
              "      <td>2.918</td>\n",
              "      <td>5.0</td>\n",
              "      <td>2.637</td>\n",
              "      <td>2.332</td>\n",
              "      <td>2.649</td>\n",
              "      <td>...</td>\n",
              "      <td>0.592</td>\n",
              "      <td>0.502</td>\n",
              "      <td>0.493</td>\n",
              "      <td>0.504</td>\n",
              "      <td>0.449</td>\n",
              "      <td>0.431</td>\n",
              "      <td>0.444</td>\n",
              "      <td>0.443</td>\n",
              "      <td>0.429</td>\n",
              "      <td>Slight-Right-Turn</td>\n",
              "    </tr>\n",
              "    <tr>\n",
              "      <th>2</th>\n",
              "      <td>0.438</td>\n",
              "      <td>0.498</td>\n",
              "      <td>3.625</td>\n",
              "      <td>3.629</td>\n",
              "      <td>5.0</td>\n",
              "      <td>2.918</td>\n",
              "      <td>5.0</td>\n",
              "      <td>2.637</td>\n",
              "      <td>2.334</td>\n",
              "      <td>2.643</td>\n",
              "      <td>...</td>\n",
              "      <td>0.593</td>\n",
              "      <td>0.502</td>\n",
              "      <td>0.493</td>\n",
              "      <td>0.504</td>\n",
              "      <td>0.449</td>\n",
              "      <td>0.431</td>\n",
              "      <td>0.444</td>\n",
              "      <td>0.446</td>\n",
              "      <td>0.429</td>\n",
              "      <td>Slight-Right-Turn</td>\n",
              "    </tr>\n",
              "    <tr>\n",
              "      <th>3</th>\n",
              "      <td>0.437</td>\n",
              "      <td>0.501</td>\n",
              "      <td>3.625</td>\n",
              "      <td>3.626</td>\n",
              "      <td>5.0</td>\n",
              "      <td>2.918</td>\n",
              "      <td>5.0</td>\n",
              "      <td>2.353</td>\n",
              "      <td>2.334</td>\n",
              "      <td>2.642</td>\n",
              "      <td>...</td>\n",
              "      <td>0.593</td>\n",
              "      <td>0.502</td>\n",
              "      <td>0.493</td>\n",
              "      <td>0.504</td>\n",
              "      <td>0.449</td>\n",
              "      <td>0.431</td>\n",
              "      <td>0.444</td>\n",
              "      <td>0.444</td>\n",
              "      <td>0.429</td>\n",
              "      <td>Slight-Right-Turn</td>\n",
              "    </tr>\n",
              "    <tr>\n",
              "      <th>4</th>\n",
              "      <td>0.438</td>\n",
              "      <td>0.498</td>\n",
              "      <td>3.626</td>\n",
              "      <td>3.629</td>\n",
              "      <td>5.0</td>\n",
              "      <td>2.918</td>\n",
              "      <td>5.0</td>\n",
              "      <td>2.640</td>\n",
              "      <td>2.334</td>\n",
              "      <td>2.639</td>\n",
              "      <td>...</td>\n",
              "      <td>0.592</td>\n",
              "      <td>0.502</td>\n",
              "      <td>0.493</td>\n",
              "      <td>0.504</td>\n",
              "      <td>0.449</td>\n",
              "      <td>0.431</td>\n",
              "      <td>0.444</td>\n",
              "      <td>0.441</td>\n",
              "      <td>0.429</td>\n",
              "      <td>Slight-Right-Turn</td>\n",
              "    </tr>\n",
              "  </tbody>\n",
              "</table>\n",
              "<p>5 rows × 25 columns</p>\n",
              "</div>\n",
              "      <button class=\"colab-df-convert\" onclick=\"convertToInteractive('df-e335d80a-bb4e-49dc-aba4-12d42125fb79')\"\n",
              "              title=\"Convert this dataframe to an interactive table.\"\n",
              "              style=\"display:none;\">\n",
              "        \n",
              "  <svg xmlns=\"http://www.w3.org/2000/svg\" height=\"24px\"viewBox=\"0 0 24 24\"\n",
              "       width=\"24px\">\n",
              "    <path d=\"M0 0h24v24H0V0z\" fill=\"none\"/>\n",
              "    <path d=\"M18.56 5.44l.94 2.06.94-2.06 2.06-.94-2.06-.94-.94-2.06-.94 2.06-2.06.94zm-11 1L8.5 8.5l.94-2.06 2.06-.94-2.06-.94L8.5 2.5l-.94 2.06-2.06.94zm10 10l.94 2.06.94-2.06 2.06-.94-2.06-.94-.94-2.06-.94 2.06-2.06.94z\"/><path d=\"M17.41 7.96l-1.37-1.37c-.4-.4-.92-.59-1.43-.59-.52 0-1.04.2-1.43.59L10.3 9.45l-7.72 7.72c-.78.78-.78 2.05 0 2.83L4 21.41c.39.39.9.59 1.41.59.51 0 1.02-.2 1.41-.59l7.78-7.78 2.81-2.81c.8-.78.8-2.07 0-2.86zM5.41 20L4 18.59l7.72-7.72 1.47 1.35L5.41 20z\"/>\n",
              "  </svg>\n",
              "      </button>\n",
              "      \n",
              "  <style>\n",
              "    .colab-df-container {\n",
              "      display:flex;\n",
              "      flex-wrap:wrap;\n",
              "      gap: 12px;\n",
              "    }\n",
              "\n",
              "    .colab-df-convert {\n",
              "      background-color: #E8F0FE;\n",
              "      border: none;\n",
              "      border-radius: 50%;\n",
              "      cursor: pointer;\n",
              "      display: none;\n",
              "      fill: #1967D2;\n",
              "      height: 32px;\n",
              "      padding: 0 0 0 0;\n",
              "      width: 32px;\n",
              "    }\n",
              "\n",
              "    .colab-df-convert:hover {\n",
              "      background-color: #E2EBFA;\n",
              "      box-shadow: 0px 1px 2px rgba(60, 64, 67, 0.3), 0px 1px 3px 1px rgba(60, 64, 67, 0.15);\n",
              "      fill: #174EA6;\n",
              "    }\n",
              "\n",
              "    [theme=dark] .colab-df-convert {\n",
              "      background-color: #3B4455;\n",
              "      fill: #D2E3FC;\n",
              "    }\n",
              "\n",
              "    [theme=dark] .colab-df-convert:hover {\n",
              "      background-color: #434B5C;\n",
              "      box-shadow: 0px 1px 3px 1px rgba(0, 0, 0, 0.15);\n",
              "      filter: drop-shadow(0px 1px 2px rgba(0, 0, 0, 0.3));\n",
              "      fill: #FFFFFF;\n",
              "    }\n",
              "  </style>\n",
              "\n",
              "      <script>\n",
              "        const buttonEl =\n",
              "          document.querySelector('#df-e335d80a-bb4e-49dc-aba4-12d42125fb79 button.colab-df-convert');\n",
              "        buttonEl.style.display =\n",
              "          google.colab.kernel.accessAllowed ? 'block' : 'none';\n",
              "\n",
              "        async function convertToInteractive(key) {\n",
              "          const element = document.querySelector('#df-e335d80a-bb4e-49dc-aba4-12d42125fb79');\n",
              "          const dataTable =\n",
              "            await google.colab.kernel.invokeFunction('convertToInteractive',\n",
              "                                                     [key], {});\n",
              "          if (!dataTable) return;\n",
              "\n",
              "          const docLinkHtml = 'Like what you see? Visit the ' +\n",
              "            '<a target=\"_blank\" href=https://colab.research.google.com/notebooks/data_table.ipynb>data table notebook</a>'\n",
              "            + ' to learn more about interactive tables.';\n",
              "          element.innerHTML = '';\n",
              "          dataTable['output_type'] = 'display_data';\n",
              "          await google.colab.output.renderOutput(dataTable, element);\n",
              "          const docLink = document.createElement('div');\n",
              "          docLink.innerHTML = docLinkHtml;\n",
              "          element.appendChild(docLink);\n",
              "        }\n",
              "      </script>\n",
              "    </div>\n",
              "  </div>\n",
              "  "
            ],
            "text/plain": [
              "   sensor_1  sensor_2  sensor_3  sensor_4  sensor_5  sensor_6  sensor_7  \\\n",
              "0     0.438     0.498     3.625     3.645       5.0     2.918       5.0   \n",
              "1     0.438     0.498     3.625     3.648       5.0     2.918       5.0   \n",
              "2     0.438     0.498     3.625     3.629       5.0     2.918       5.0   \n",
              "3     0.437     0.501     3.625     3.626       5.0     2.918       5.0   \n",
              "4     0.438     0.498     3.626     3.629       5.0     2.918       5.0   \n",
              "\n",
              "   sensor_8  sensor_9  sensor_10  ...  sensor_16  sensor_17  sensor_18  \\\n",
              "0     2.351     2.332      2.643  ...      0.593      0.502      0.493   \n",
              "1     2.637     2.332      2.649  ...      0.592      0.502      0.493   \n",
              "2     2.637     2.334      2.643  ...      0.593      0.502      0.493   \n",
              "3     2.353     2.334      2.642  ...      0.593      0.502      0.493   \n",
              "4     2.640     2.334      2.639  ...      0.592      0.502      0.493   \n",
              "\n",
              "   sensor_19  sensor_20  sensor_21  sensor_22  sensor_23  sensor_24  \\\n",
              "0      0.504      0.445      0.431      0.444      0.440      0.429   \n",
              "1      0.504      0.449      0.431      0.444      0.443      0.429   \n",
              "2      0.504      0.449      0.431      0.444      0.446      0.429   \n",
              "3      0.504      0.449      0.431      0.444      0.444      0.429   \n",
              "4      0.504      0.449      0.431      0.444      0.441      0.429   \n",
              "\n",
              "         funcao_robo  \n",
              "0  Slight-Right-Turn  \n",
              "1  Slight-Right-Turn  \n",
              "2  Slight-Right-Turn  \n",
              "3  Slight-Right-Turn  \n",
              "4  Slight-Right-Turn  \n",
              "\n",
              "[5 rows x 25 columns]"
            ]
          },
          "execution_count": 377,
          "metadata": {},
          "output_type": "execute_result"
        }
      ],
      "source": [
        "data.head()"
      ]
    },
    {
      "cell_type": "code",
      "execution_count": null,
      "metadata": {
        "colab": {
          "base_uri": "https://localhost:8080/"
        },
        "id": "DUDcZotsa-dV",
        "outputId": "81145587-8379-4134-d6e3-eb632d52e4a9"
      },
      "outputs": [
        {
          "data": {
            "text/plain": [
              "(5115, 25)"
            ]
          },
          "execution_count": 378,
          "metadata": {},
          "output_type": "execute_result"
        }
      ],
      "source": [
        "#Tamanho do arquivo\n",
        "data.shape"
      ]
    },
    {
      "cell_type": "markdown",
      "metadata": {
        "id": "aIzlbvfPbXik"
      },
      "source": [
        "##Pegando apenas as informações da função 'Slight-Right-Turn'"
      ]
    },
    {
      "cell_type": "code",
      "execution_count": null,
      "metadata": {
        "colab": {
          "base_uri": "https://localhost:8080/",
          "height": 661
        },
        "id": "FLGn89-zbEGr",
        "outputId": "6e654e96-7c15-4842-f6e2-f14b885655b6"
      },
      "outputs": [
        {
          "data": {
            "text/html": [
              "\n",
              "  <div id=\"df-57f3dd88-62e3-458f-b403-34699b74e447\">\n",
              "    <div class=\"colab-df-container\">\n",
              "      <div>\n",
              "<style scoped>\n",
              "    .dataframe tbody tr th:only-of-type {\n",
              "        vertical-align: middle;\n",
              "    }\n",
              "\n",
              "    .dataframe tbody tr th {\n",
              "        vertical-align: top;\n",
              "    }\n",
              "\n",
              "    .dataframe thead th {\n",
              "        text-align: right;\n",
              "    }\n",
              "</style>\n",
              "<table border=\"1\" class=\"dataframe\">\n",
              "  <thead>\n",
              "    <tr style=\"text-align: right;\">\n",
              "      <th></th>\n",
              "      <th>sensor_1</th>\n",
              "      <th>sensor_2</th>\n",
              "      <th>sensor_3</th>\n",
              "      <th>sensor_4</th>\n",
              "      <th>sensor_5</th>\n",
              "      <th>sensor_6</th>\n",
              "      <th>sensor_7</th>\n",
              "      <th>sensor_8</th>\n",
              "      <th>sensor_9</th>\n",
              "      <th>sensor_10</th>\n",
              "      <th>...</th>\n",
              "      <th>sensor_16</th>\n",
              "      <th>sensor_17</th>\n",
              "      <th>sensor_18</th>\n",
              "      <th>sensor_19</th>\n",
              "      <th>sensor_20</th>\n",
              "      <th>sensor_21</th>\n",
              "      <th>sensor_22</th>\n",
              "      <th>sensor_23</th>\n",
              "      <th>sensor_24</th>\n",
              "      <th>funcao_robo</th>\n",
              "    </tr>\n",
              "  </thead>\n",
              "  <tbody>\n",
              "    <tr>\n",
              "      <th>0</th>\n",
              "      <td>0.438</td>\n",
              "      <td>0.498</td>\n",
              "      <td>3.625</td>\n",
              "      <td>3.645</td>\n",
              "      <td>5.000</td>\n",
              "      <td>2.918</td>\n",
              "      <td>5.000</td>\n",
              "      <td>2.351</td>\n",
              "      <td>2.332</td>\n",
              "      <td>2.643</td>\n",
              "      <td>...</td>\n",
              "      <td>0.593</td>\n",
              "      <td>0.502</td>\n",
              "      <td>0.493</td>\n",
              "      <td>0.504</td>\n",
              "      <td>0.445</td>\n",
              "      <td>0.431</td>\n",
              "      <td>0.444</td>\n",
              "      <td>0.440</td>\n",
              "      <td>0.429</td>\n",
              "      <td>Slight-Right-Turn</td>\n",
              "    </tr>\n",
              "    <tr>\n",
              "      <th>1</th>\n",
              "      <td>0.438</td>\n",
              "      <td>0.498</td>\n",
              "      <td>3.625</td>\n",
              "      <td>3.648</td>\n",
              "      <td>5.000</td>\n",
              "      <td>2.918</td>\n",
              "      <td>5.000</td>\n",
              "      <td>2.637</td>\n",
              "      <td>2.332</td>\n",
              "      <td>2.649</td>\n",
              "      <td>...</td>\n",
              "      <td>0.592</td>\n",
              "      <td>0.502</td>\n",
              "      <td>0.493</td>\n",
              "      <td>0.504</td>\n",
              "      <td>0.449</td>\n",
              "      <td>0.431</td>\n",
              "      <td>0.444</td>\n",
              "      <td>0.443</td>\n",
              "      <td>0.429</td>\n",
              "      <td>Slight-Right-Turn</td>\n",
              "    </tr>\n",
              "    <tr>\n",
              "      <th>2</th>\n",
              "      <td>0.438</td>\n",
              "      <td>0.498</td>\n",
              "      <td>3.625</td>\n",
              "      <td>3.629</td>\n",
              "      <td>5.000</td>\n",
              "      <td>2.918</td>\n",
              "      <td>5.000</td>\n",
              "      <td>2.637</td>\n",
              "      <td>2.334</td>\n",
              "      <td>2.643</td>\n",
              "      <td>...</td>\n",
              "      <td>0.593</td>\n",
              "      <td>0.502</td>\n",
              "      <td>0.493</td>\n",
              "      <td>0.504</td>\n",
              "      <td>0.449</td>\n",
              "      <td>0.431</td>\n",
              "      <td>0.444</td>\n",
              "      <td>0.446</td>\n",
              "      <td>0.429</td>\n",
              "      <td>Slight-Right-Turn</td>\n",
              "    </tr>\n",
              "    <tr>\n",
              "      <th>3</th>\n",
              "      <td>0.437</td>\n",
              "      <td>0.501</td>\n",
              "      <td>3.625</td>\n",
              "      <td>3.626</td>\n",
              "      <td>5.000</td>\n",
              "      <td>2.918</td>\n",
              "      <td>5.000</td>\n",
              "      <td>2.353</td>\n",
              "      <td>2.334</td>\n",
              "      <td>2.642</td>\n",
              "      <td>...</td>\n",
              "      <td>0.593</td>\n",
              "      <td>0.502</td>\n",
              "      <td>0.493</td>\n",
              "      <td>0.504</td>\n",
              "      <td>0.449</td>\n",
              "      <td>0.431</td>\n",
              "      <td>0.444</td>\n",
              "      <td>0.444</td>\n",
              "      <td>0.429</td>\n",
              "      <td>Slight-Right-Turn</td>\n",
              "    </tr>\n",
              "    <tr>\n",
              "      <th>4</th>\n",
              "      <td>0.438</td>\n",
              "      <td>0.498</td>\n",
              "      <td>3.626</td>\n",
              "      <td>3.629</td>\n",
              "      <td>5.000</td>\n",
              "      <td>2.918</td>\n",
              "      <td>5.000</td>\n",
              "      <td>2.640</td>\n",
              "      <td>2.334</td>\n",
              "      <td>2.639</td>\n",
              "      <td>...</td>\n",
              "      <td>0.592</td>\n",
              "      <td>0.502</td>\n",
              "      <td>0.493</td>\n",
              "      <td>0.504</td>\n",
              "      <td>0.449</td>\n",
              "      <td>0.431</td>\n",
              "      <td>0.444</td>\n",
              "      <td>0.441</td>\n",
              "      <td>0.429</td>\n",
              "      <td>Slight-Right-Turn</td>\n",
              "    </tr>\n",
              "    <tr>\n",
              "      <th>...</th>\n",
              "      <td>...</td>\n",
              "      <td>...</td>\n",
              "      <td>...</td>\n",
              "      <td>...</td>\n",
              "      <td>...</td>\n",
              "      <td>...</td>\n",
              "      <td>...</td>\n",
              "      <td>...</td>\n",
              "      <td>...</td>\n",
              "      <td>...</td>\n",
              "      <td>...</td>\n",
              "      <td>...</td>\n",
              "      <td>...</td>\n",
              "      <td>...</td>\n",
              "      <td>...</td>\n",
              "      <td>...</td>\n",
              "      <td>...</td>\n",
              "      <td>...</td>\n",
              "      <td>...</td>\n",
              "      <td>...</td>\n",
              "      <td>...</td>\n",
              "    </tr>\n",
              "    <tr>\n",
              "      <th>5028</th>\n",
              "      <td>1.292</td>\n",
              "      <td>1.319</td>\n",
              "      <td>5.000</td>\n",
              "      <td>5.000</td>\n",
              "      <td>5.000</td>\n",
              "      <td>4.364</td>\n",
              "      <td>5.000</td>\n",
              "      <td>1.816</td>\n",
              "      <td>2.442</td>\n",
              "      <td>2.425</td>\n",
              "      <td>...</td>\n",
              "      <td>1.545</td>\n",
              "      <td>0.537</td>\n",
              "      <td>0.507</td>\n",
              "      <td>0.496</td>\n",
              "      <td>0.492</td>\n",
              "      <td>0.505</td>\n",
              "      <td>4.376</td>\n",
              "      <td>1.292</td>\n",
              "      <td>1.280</td>\n",
              "      <td>Slight-Right-Turn</td>\n",
              "    </tr>\n",
              "    <tr>\n",
              "      <th>5029</th>\n",
              "      <td>1.298</td>\n",
              "      <td>1.328</td>\n",
              "      <td>5.000</td>\n",
              "      <td>5.000</td>\n",
              "      <td>5.000</td>\n",
              "      <td>4.366</td>\n",
              "      <td>5.000</td>\n",
              "      <td>1.813</td>\n",
              "      <td>1.837</td>\n",
              "      <td>2.417</td>\n",
              "      <td>...</td>\n",
              "      <td>1.535</td>\n",
              "      <td>0.540</td>\n",
              "      <td>0.510</td>\n",
              "      <td>0.498</td>\n",
              "      <td>0.494</td>\n",
              "      <td>0.506</td>\n",
              "      <td>4.374</td>\n",
              "      <td>1.301</td>\n",
              "      <td>1.289</td>\n",
              "      <td>Slight-Right-Turn</td>\n",
              "    </tr>\n",
              "    <tr>\n",
              "      <th>5215</th>\n",
              "      <td>0.444</td>\n",
              "      <td>0.820</td>\n",
              "      <td>1.515</td>\n",
              "      <td>1.446</td>\n",
              "      <td>1.442</td>\n",
              "      <td>1.454</td>\n",
              "      <td>1.482</td>\n",
              "      <td>1.508</td>\n",
              "      <td>2.691</td>\n",
              "      <td>2.702</td>\n",
              "      <td>...</td>\n",
              "      <td>0.880</td>\n",
              "      <td>0.798</td>\n",
              "      <td>0.824</td>\n",
              "      <td>1.003</td>\n",
              "      <td>0.468</td>\n",
              "      <td>0.433</td>\n",
              "      <td>0.431</td>\n",
              "      <td>0.415</td>\n",
              "      <td>0.428</td>\n",
              "      <td>Slight-Right-Turn</td>\n",
              "    </tr>\n",
              "    <tr>\n",
              "      <th>5216</th>\n",
              "      <td>0.444</td>\n",
              "      <td>0.483</td>\n",
              "      <td>1.530</td>\n",
              "      <td>1.466</td>\n",
              "      <td>1.443</td>\n",
              "      <td>1.455</td>\n",
              "      <td>1.475</td>\n",
              "      <td>1.500</td>\n",
              "      <td>2.692</td>\n",
              "      <td>2.706</td>\n",
              "      <td>...</td>\n",
              "      <td>0.822</td>\n",
              "      <td>0.795</td>\n",
              "      <td>0.817</td>\n",
              "      <td>1.000</td>\n",
              "      <td>0.470</td>\n",
              "      <td>0.434</td>\n",
              "      <td>0.423</td>\n",
              "      <td>0.413</td>\n",
              "      <td>0.422</td>\n",
              "      <td>Slight-Right-Turn</td>\n",
              "    </tr>\n",
              "    <tr>\n",
              "      <th>5217</th>\n",
              "      <td>0.480</td>\n",
              "      <td>0.475</td>\n",
              "      <td>1.477</td>\n",
              "      <td>1.454</td>\n",
              "      <td>1.445</td>\n",
              "      <td>1.455</td>\n",
              "      <td>1.475</td>\n",
              "      <td>1.499</td>\n",
              "      <td>2.694</td>\n",
              "      <td>3.320</td>\n",
              "      <td>...</td>\n",
              "      <td>0.809</td>\n",
              "      <td>0.794</td>\n",
              "      <td>0.814</td>\n",
              "      <td>0.849</td>\n",
              "      <td>0.479</td>\n",
              "      <td>0.439</td>\n",
              "      <td>0.422</td>\n",
              "      <td>0.412</td>\n",
              "      <td>0.420</td>\n",
              "      <td>Slight-Right-Turn</td>\n",
              "    </tr>\n",
              "  </tbody>\n",
              "</table>\n",
              "<p>772 rows × 25 columns</p>\n",
              "</div>\n",
              "      <button class=\"colab-df-convert\" onclick=\"convertToInteractive('df-57f3dd88-62e3-458f-b403-34699b74e447')\"\n",
              "              title=\"Convert this dataframe to an interactive table.\"\n",
              "              style=\"display:none;\">\n",
              "        \n",
              "  <svg xmlns=\"http://www.w3.org/2000/svg\" height=\"24px\"viewBox=\"0 0 24 24\"\n",
              "       width=\"24px\">\n",
              "    <path d=\"M0 0h24v24H0V0z\" fill=\"none\"/>\n",
              "    <path d=\"M18.56 5.44l.94 2.06.94-2.06 2.06-.94-2.06-.94-.94-2.06-.94 2.06-2.06.94zm-11 1L8.5 8.5l.94-2.06 2.06-.94-2.06-.94L8.5 2.5l-.94 2.06-2.06.94zm10 10l.94 2.06.94-2.06 2.06-.94-2.06-.94-.94-2.06-.94 2.06-2.06.94z\"/><path d=\"M17.41 7.96l-1.37-1.37c-.4-.4-.92-.59-1.43-.59-.52 0-1.04.2-1.43.59L10.3 9.45l-7.72 7.72c-.78.78-.78 2.05 0 2.83L4 21.41c.39.39.9.59 1.41.59.51 0 1.02-.2 1.41-.59l7.78-7.78 2.81-2.81c.8-.78.8-2.07 0-2.86zM5.41 20L4 18.59l7.72-7.72 1.47 1.35L5.41 20z\"/>\n",
              "  </svg>\n",
              "      </button>\n",
              "      \n",
              "  <style>\n",
              "    .colab-df-container {\n",
              "      display:flex;\n",
              "      flex-wrap:wrap;\n",
              "      gap: 12px;\n",
              "    }\n",
              "\n",
              "    .colab-df-convert {\n",
              "      background-color: #E8F0FE;\n",
              "      border: none;\n",
              "      border-radius: 50%;\n",
              "      cursor: pointer;\n",
              "      display: none;\n",
              "      fill: #1967D2;\n",
              "      height: 32px;\n",
              "      padding: 0 0 0 0;\n",
              "      width: 32px;\n",
              "    }\n",
              "\n",
              "    .colab-df-convert:hover {\n",
              "      background-color: #E2EBFA;\n",
              "      box-shadow: 0px 1px 2px rgba(60, 64, 67, 0.3), 0px 1px 3px 1px rgba(60, 64, 67, 0.15);\n",
              "      fill: #174EA6;\n",
              "    }\n",
              "\n",
              "    [theme=dark] .colab-df-convert {\n",
              "      background-color: #3B4455;\n",
              "      fill: #D2E3FC;\n",
              "    }\n",
              "\n",
              "    [theme=dark] .colab-df-convert:hover {\n",
              "      background-color: #434B5C;\n",
              "      box-shadow: 0px 1px 3px 1px rgba(0, 0, 0, 0.15);\n",
              "      filter: drop-shadow(0px 1px 2px rgba(0, 0, 0, 0.3));\n",
              "      fill: #FFFFFF;\n",
              "    }\n",
              "  </style>\n",
              "\n",
              "      <script>\n",
              "        const buttonEl =\n",
              "          document.querySelector('#df-57f3dd88-62e3-458f-b403-34699b74e447 button.colab-df-convert');\n",
              "        buttonEl.style.display =\n",
              "          google.colab.kernel.accessAllowed ? 'block' : 'none';\n",
              "\n",
              "        async function convertToInteractive(key) {\n",
              "          const element = document.querySelector('#df-57f3dd88-62e3-458f-b403-34699b74e447');\n",
              "          const dataTable =\n",
              "            await google.colab.kernel.invokeFunction('convertToInteractive',\n",
              "                                                     [key], {});\n",
              "          if (!dataTable) return;\n",
              "\n",
              "          const docLinkHtml = 'Like what you see? Visit the ' +\n",
              "            '<a target=\"_blank\" href=https://colab.research.google.com/notebooks/data_table.ipynb>data table notebook</a>'\n",
              "            + ' to learn more about interactive tables.';\n",
              "          element.innerHTML = '';\n",
              "          dataTable['output_type'] = 'display_data';\n",
              "          await google.colab.output.renderOutput(dataTable, element);\n",
              "          const docLink = document.createElement('div');\n",
              "          docLink.innerHTML = docLinkHtml;\n",
              "          element.appendChild(docLink);\n",
              "        }\n",
              "      </script>\n",
              "    </div>\n",
              "  </div>\n",
              "  "
            ],
            "text/plain": [
              "      sensor_1  sensor_2  sensor_3  sensor_4  sensor_5  sensor_6  sensor_7  \\\n",
              "0        0.438     0.498     3.625     3.645     5.000     2.918     5.000   \n",
              "1        0.438     0.498     3.625     3.648     5.000     2.918     5.000   \n",
              "2        0.438     0.498     3.625     3.629     5.000     2.918     5.000   \n",
              "3        0.437     0.501     3.625     3.626     5.000     2.918     5.000   \n",
              "4        0.438     0.498     3.626     3.629     5.000     2.918     5.000   \n",
              "...        ...       ...       ...       ...       ...       ...       ...   \n",
              "5028     1.292     1.319     5.000     5.000     5.000     4.364     5.000   \n",
              "5029     1.298     1.328     5.000     5.000     5.000     4.366     5.000   \n",
              "5215     0.444     0.820     1.515     1.446     1.442     1.454     1.482   \n",
              "5216     0.444     0.483     1.530     1.466     1.443     1.455     1.475   \n",
              "5217     0.480     0.475     1.477     1.454     1.445     1.455     1.475   \n",
              "\n",
              "      sensor_8  sensor_9  sensor_10  ...  sensor_16  sensor_17  sensor_18  \\\n",
              "0        2.351     2.332      2.643  ...      0.593      0.502      0.493   \n",
              "1        2.637     2.332      2.649  ...      0.592      0.502      0.493   \n",
              "2        2.637     2.334      2.643  ...      0.593      0.502      0.493   \n",
              "3        2.353     2.334      2.642  ...      0.593      0.502      0.493   \n",
              "4        2.640     2.334      2.639  ...      0.592      0.502      0.493   \n",
              "...        ...       ...        ...  ...        ...        ...        ...   \n",
              "5028     1.816     2.442      2.425  ...      1.545      0.537      0.507   \n",
              "5029     1.813     1.837      2.417  ...      1.535      0.540      0.510   \n",
              "5215     1.508     2.691      2.702  ...      0.880      0.798      0.824   \n",
              "5216     1.500     2.692      2.706  ...      0.822      0.795      0.817   \n",
              "5217     1.499     2.694      3.320  ...      0.809      0.794      0.814   \n",
              "\n",
              "      sensor_19  sensor_20  sensor_21  sensor_22  sensor_23  sensor_24  \\\n",
              "0         0.504      0.445      0.431      0.444      0.440      0.429   \n",
              "1         0.504      0.449      0.431      0.444      0.443      0.429   \n",
              "2         0.504      0.449      0.431      0.444      0.446      0.429   \n",
              "3         0.504      0.449      0.431      0.444      0.444      0.429   \n",
              "4         0.504      0.449      0.431      0.444      0.441      0.429   \n",
              "...         ...        ...        ...        ...        ...        ...   \n",
              "5028      0.496      0.492      0.505      4.376      1.292      1.280   \n",
              "5029      0.498      0.494      0.506      4.374      1.301      1.289   \n",
              "5215      1.003      0.468      0.433      0.431      0.415      0.428   \n",
              "5216      1.000      0.470      0.434      0.423      0.413      0.422   \n",
              "5217      0.849      0.479      0.439      0.422      0.412      0.420   \n",
              "\n",
              "            funcao_robo  \n",
              "0     Slight-Right-Turn  \n",
              "1     Slight-Right-Turn  \n",
              "2     Slight-Right-Turn  \n",
              "3     Slight-Right-Turn  \n",
              "4     Slight-Right-Turn  \n",
              "...                 ...  \n",
              "5028  Slight-Right-Turn  \n",
              "5029  Slight-Right-Turn  \n",
              "5215  Slight-Right-Turn  \n",
              "5216  Slight-Right-Turn  \n",
              "5217  Slight-Right-Turn  \n",
              "\n",
              "[772 rows x 25 columns]"
            ]
          },
          "execution_count": 379,
          "metadata": {},
          "output_type": "execute_result"
        }
      ],
      "source": [
        "data[data['funcao_robo'] == 'Slight-Right-Turn']"
      ]
    },
    {
      "cell_type": "markdown",
      "metadata": {
        "id": "dNFlSht9clhk"
      },
      "source": [
        "##Média dos valores dos ângulos do Sensor Frontal do Robô (180°)"
      ]
    },
    {
      "cell_type": "code",
      "execution_count": null,
      "metadata": {
        "colab": {
          "base_uri": "https://localhost:8080/"
        },
        "id": "aYK1BMoZckT5",
        "outputId": "f7ef9793-1971-477a-e5fe-d60ce607a848"
      },
      "outputs": [
        {
          "name": "stdout",
          "output_type": "stream",
          "text": [
            "Soma de todos os valores dos ângulos: 7526.821\n",
            "Quantidade de testes: 5115\n",
            "Média do angulo: 1.472°\n"
          ]
        }
      ],
      "source": [
        "# Somando todos os valores do Sensor 1\n",
        "soma = data['sensor_1'].sum()\n",
        "\n",
        "# Pegando a quantidade de testes\n",
        "tamanho = data['sensor_1'].shape[0]\n",
        "\n",
        "# Fazendo a Média\n",
        "media = soma / tamanho\n",
        "\n",
        "# Impressão\n",
        "print(f\"Soma de todos os valores dos ângulos: {soma}\")\n",
        "print(f\"Quantidade de testes: {tamanho}\")\n",
        "print(f\"Média do angulo: {media:.3f}°\")"
      ]
    },
    {
      "cell_type": "markdown",
      "metadata": {
        "id": "x95IIs33gC2W"
      },
      "source": [
        "##Identificação e tratamento de Outliers"
      ]
    },
    {
      "cell_type": "code",
      "execution_count": null,
      "metadata": {
        "colab": {
          "base_uri": "https://localhost:8080/",
          "height": 386
        },
        "id": "uYThW80IgT9t",
        "outputId": "1b33aec2-9cce-40a5-f1d3-3ce3aff0b162"
      },
      "outputs": [
        {
          "data": {
            "text/html": [
              "\n",
              "  <div id=\"df-bc0e4325-ef1e-489e-a3e1-d9672ec58d66\">\n",
              "    <div class=\"colab-df-container\">\n",
              "      <div>\n",
              "<style scoped>\n",
              "    .dataframe tbody tr th:only-of-type {\n",
              "        vertical-align: middle;\n",
              "    }\n",
              "\n",
              "    .dataframe tbody tr th {\n",
              "        vertical-align: top;\n",
              "    }\n",
              "\n",
              "    .dataframe thead th {\n",
              "        text-align: right;\n",
              "    }\n",
              "</style>\n",
              "<table border=\"1\" class=\"dataframe\">\n",
              "  <thead>\n",
              "    <tr style=\"text-align: right;\">\n",
              "      <th></th>\n",
              "      <th>sensor_1</th>\n",
              "      <th>sensor_2</th>\n",
              "      <th>sensor_3</th>\n",
              "      <th>sensor_4</th>\n",
              "      <th>sensor_5</th>\n",
              "      <th>sensor_6</th>\n",
              "      <th>sensor_7</th>\n",
              "      <th>sensor_8</th>\n",
              "      <th>sensor_9</th>\n",
              "      <th>sensor_10</th>\n",
              "      <th>...</th>\n",
              "      <th>sensor_16</th>\n",
              "      <th>sensor_17</th>\n",
              "      <th>sensor_18</th>\n",
              "      <th>sensor_19</th>\n",
              "      <th>sensor_20</th>\n",
              "      <th>sensor_21</th>\n",
              "      <th>sensor_22</th>\n",
              "      <th>sensor_23</th>\n",
              "      <th>sensor_24</th>\n",
              "      <th>funcao_robo</th>\n",
              "    </tr>\n",
              "  </thead>\n",
              "  <tbody>\n",
              "    <tr>\n",
              "      <th>0</th>\n",
              "      <td>0.438</td>\n",
              "      <td>0.498</td>\n",
              "      <td>3.625</td>\n",
              "      <td>3.645</td>\n",
              "      <td>5.0</td>\n",
              "      <td>2.918</td>\n",
              "      <td>5.0</td>\n",
              "      <td>2.351</td>\n",
              "      <td>2.332</td>\n",
              "      <td>2.643</td>\n",
              "      <td>...</td>\n",
              "      <td>0.593</td>\n",
              "      <td>0.502</td>\n",
              "      <td>0.493</td>\n",
              "      <td>0.504</td>\n",
              "      <td>0.445</td>\n",
              "      <td>0.431</td>\n",
              "      <td>0.444</td>\n",
              "      <td>0.440</td>\n",
              "      <td>0.429</td>\n",
              "      <td>Slight-Right-Turn</td>\n",
              "    </tr>\n",
              "    <tr>\n",
              "      <th>1</th>\n",
              "      <td>0.438</td>\n",
              "      <td>0.498</td>\n",
              "      <td>3.625</td>\n",
              "      <td>3.648</td>\n",
              "      <td>5.0</td>\n",
              "      <td>2.918</td>\n",
              "      <td>5.0</td>\n",
              "      <td>2.637</td>\n",
              "      <td>2.332</td>\n",
              "      <td>2.649</td>\n",
              "      <td>...</td>\n",
              "      <td>0.592</td>\n",
              "      <td>0.502</td>\n",
              "      <td>0.493</td>\n",
              "      <td>0.504</td>\n",
              "      <td>0.449</td>\n",
              "      <td>0.431</td>\n",
              "      <td>0.444</td>\n",
              "      <td>0.443</td>\n",
              "      <td>0.429</td>\n",
              "      <td>Slight-Right-Turn</td>\n",
              "    </tr>\n",
              "    <tr>\n",
              "      <th>2</th>\n",
              "      <td>0.438</td>\n",
              "      <td>0.498</td>\n",
              "      <td>3.625</td>\n",
              "      <td>3.629</td>\n",
              "      <td>5.0</td>\n",
              "      <td>2.918</td>\n",
              "      <td>5.0</td>\n",
              "      <td>2.637</td>\n",
              "      <td>2.334</td>\n",
              "      <td>2.643</td>\n",
              "      <td>...</td>\n",
              "      <td>0.593</td>\n",
              "      <td>0.502</td>\n",
              "      <td>0.493</td>\n",
              "      <td>0.504</td>\n",
              "      <td>0.449</td>\n",
              "      <td>0.431</td>\n",
              "      <td>0.444</td>\n",
              "      <td>0.446</td>\n",
              "      <td>0.429</td>\n",
              "      <td>Slight-Right-Turn</td>\n",
              "    </tr>\n",
              "    <tr>\n",
              "      <th>3</th>\n",
              "      <td>0.437</td>\n",
              "      <td>0.501</td>\n",
              "      <td>3.625</td>\n",
              "      <td>3.626</td>\n",
              "      <td>5.0</td>\n",
              "      <td>2.918</td>\n",
              "      <td>5.0</td>\n",
              "      <td>2.353</td>\n",
              "      <td>2.334</td>\n",
              "      <td>2.642</td>\n",
              "      <td>...</td>\n",
              "      <td>0.593</td>\n",
              "      <td>0.502</td>\n",
              "      <td>0.493</td>\n",
              "      <td>0.504</td>\n",
              "      <td>0.449</td>\n",
              "      <td>0.431</td>\n",
              "      <td>0.444</td>\n",
              "      <td>0.444</td>\n",
              "      <td>0.429</td>\n",
              "      <td>Slight-Right-Turn</td>\n",
              "    </tr>\n",
              "    <tr>\n",
              "      <th>4</th>\n",
              "      <td>0.438</td>\n",
              "      <td>0.498</td>\n",
              "      <td>3.626</td>\n",
              "      <td>3.629</td>\n",
              "      <td>5.0</td>\n",
              "      <td>2.918</td>\n",
              "      <td>5.0</td>\n",
              "      <td>2.640</td>\n",
              "      <td>2.334</td>\n",
              "      <td>2.639</td>\n",
              "      <td>...</td>\n",
              "      <td>0.592</td>\n",
              "      <td>0.502</td>\n",
              "      <td>0.493</td>\n",
              "      <td>0.504</td>\n",
              "      <td>0.449</td>\n",
              "      <td>0.431</td>\n",
              "      <td>0.444</td>\n",
              "      <td>0.441</td>\n",
              "      <td>0.429</td>\n",
              "      <td>Slight-Right-Turn</td>\n",
              "    </tr>\n",
              "  </tbody>\n",
              "</table>\n",
              "<p>5 rows × 25 columns</p>\n",
              "</div>\n",
              "      <button class=\"colab-df-convert\" onclick=\"convertToInteractive('df-bc0e4325-ef1e-489e-a3e1-d9672ec58d66')\"\n",
              "              title=\"Convert this dataframe to an interactive table.\"\n",
              "              style=\"display:none;\">\n",
              "        \n",
              "  <svg xmlns=\"http://www.w3.org/2000/svg\" height=\"24px\"viewBox=\"0 0 24 24\"\n",
              "       width=\"24px\">\n",
              "    <path d=\"M0 0h24v24H0V0z\" fill=\"none\"/>\n",
              "    <path d=\"M18.56 5.44l.94 2.06.94-2.06 2.06-.94-2.06-.94-.94-2.06-.94 2.06-2.06.94zm-11 1L8.5 8.5l.94-2.06 2.06-.94-2.06-.94L8.5 2.5l-.94 2.06-2.06.94zm10 10l.94 2.06.94-2.06 2.06-.94-2.06-.94-.94-2.06-.94 2.06-2.06.94z\"/><path d=\"M17.41 7.96l-1.37-1.37c-.4-.4-.92-.59-1.43-.59-.52 0-1.04.2-1.43.59L10.3 9.45l-7.72 7.72c-.78.78-.78 2.05 0 2.83L4 21.41c.39.39.9.59 1.41.59.51 0 1.02-.2 1.41-.59l7.78-7.78 2.81-2.81c.8-.78.8-2.07 0-2.86zM5.41 20L4 18.59l7.72-7.72 1.47 1.35L5.41 20z\"/>\n",
              "  </svg>\n",
              "      </button>\n",
              "      \n",
              "  <style>\n",
              "    .colab-df-container {\n",
              "      display:flex;\n",
              "      flex-wrap:wrap;\n",
              "      gap: 12px;\n",
              "    }\n",
              "\n",
              "    .colab-df-convert {\n",
              "      background-color: #E8F0FE;\n",
              "      border: none;\n",
              "      border-radius: 50%;\n",
              "      cursor: pointer;\n",
              "      display: none;\n",
              "      fill: #1967D2;\n",
              "      height: 32px;\n",
              "      padding: 0 0 0 0;\n",
              "      width: 32px;\n",
              "    }\n",
              "\n",
              "    .colab-df-convert:hover {\n",
              "      background-color: #E2EBFA;\n",
              "      box-shadow: 0px 1px 2px rgba(60, 64, 67, 0.3), 0px 1px 3px 1px rgba(60, 64, 67, 0.15);\n",
              "      fill: #174EA6;\n",
              "    }\n",
              "\n",
              "    [theme=dark] .colab-df-convert {\n",
              "      background-color: #3B4455;\n",
              "      fill: #D2E3FC;\n",
              "    }\n",
              "\n",
              "    [theme=dark] .colab-df-convert:hover {\n",
              "      background-color: #434B5C;\n",
              "      box-shadow: 0px 1px 3px 1px rgba(0, 0, 0, 0.15);\n",
              "      filter: drop-shadow(0px 1px 2px rgba(0, 0, 0, 0.3));\n",
              "      fill: #FFFFFF;\n",
              "    }\n",
              "  </style>\n",
              "\n",
              "      <script>\n",
              "        const buttonEl =\n",
              "          document.querySelector('#df-bc0e4325-ef1e-489e-a3e1-d9672ec58d66 button.colab-df-convert');\n",
              "        buttonEl.style.display =\n",
              "          google.colab.kernel.accessAllowed ? 'block' : 'none';\n",
              "\n",
              "        async function convertToInteractive(key) {\n",
              "          const element = document.querySelector('#df-bc0e4325-ef1e-489e-a3e1-d9672ec58d66');\n",
              "          const dataTable =\n",
              "            await google.colab.kernel.invokeFunction('convertToInteractive',\n",
              "                                                     [key], {});\n",
              "          if (!dataTable) return;\n",
              "\n",
              "          const docLinkHtml = 'Like what you see? Visit the ' +\n",
              "            '<a target=\"_blank\" href=https://colab.research.google.com/notebooks/data_table.ipynb>data table notebook</a>'\n",
              "            + ' to learn more about interactive tables.';\n",
              "          element.innerHTML = '';\n",
              "          dataTable['output_type'] = 'display_data';\n",
              "          await google.colab.output.renderOutput(dataTable, element);\n",
              "          const docLink = document.createElement('div');\n",
              "          docLink.innerHTML = docLinkHtml;\n",
              "          element.appendChild(docLink);\n",
              "        }\n",
              "      </script>\n",
              "    </div>\n",
              "  </div>\n",
              "  "
            ],
            "text/plain": [
              "   sensor_1  sensor_2  sensor_3  sensor_4  sensor_5  sensor_6  sensor_7  \\\n",
              "0     0.438     0.498     3.625     3.645       5.0     2.918       5.0   \n",
              "1     0.438     0.498     3.625     3.648       5.0     2.918       5.0   \n",
              "2     0.438     0.498     3.625     3.629       5.0     2.918       5.0   \n",
              "3     0.437     0.501     3.625     3.626       5.0     2.918       5.0   \n",
              "4     0.438     0.498     3.626     3.629       5.0     2.918       5.0   \n",
              "\n",
              "   sensor_8  sensor_9  sensor_10  ...  sensor_16  sensor_17  sensor_18  \\\n",
              "0     2.351     2.332      2.643  ...      0.593      0.502      0.493   \n",
              "1     2.637     2.332      2.649  ...      0.592      0.502      0.493   \n",
              "2     2.637     2.334      2.643  ...      0.593      0.502      0.493   \n",
              "3     2.353     2.334      2.642  ...      0.593      0.502      0.493   \n",
              "4     2.640     2.334      2.639  ...      0.592      0.502      0.493   \n",
              "\n",
              "   sensor_19  sensor_20  sensor_21  sensor_22  sensor_23  sensor_24  \\\n",
              "0      0.504      0.445      0.431      0.444      0.440      0.429   \n",
              "1      0.504      0.449      0.431      0.444      0.443      0.429   \n",
              "2      0.504      0.449      0.431      0.444      0.446      0.429   \n",
              "3      0.504      0.449      0.431      0.444      0.444      0.429   \n",
              "4      0.504      0.449      0.431      0.444      0.441      0.429   \n",
              "\n",
              "         funcao_robo  \n",
              "0  Slight-Right-Turn  \n",
              "1  Slight-Right-Turn  \n",
              "2  Slight-Right-Turn  \n",
              "3  Slight-Right-Turn  \n",
              "4  Slight-Right-Turn  \n",
              "\n",
              "[5 rows x 25 columns]"
            ]
          },
          "execution_count": 381,
          "metadata": {},
          "output_type": "execute_result"
        }
      ],
      "source": [
        "data.head()"
      ]
    },
    {
      "cell_type": "code",
      "execution_count": null,
      "metadata": {
        "id": "KqZdqdFcgI1x"
      },
      "outputs": [],
      "source": [
        "#Importando a biblioteca Matplotlib para a criação dos gráficos\n",
        "import matplotlib.pyplot as plt"
      ]
    },
    {
      "cell_type": "code",
      "execution_count": null,
      "metadata": {
        "id": "J4fAYFiTtrXf"
      },
      "outputs": [],
      "source": [
        "#Separando as informações dos sensores\n",
        "sensor1 = data['sensor_1']\n",
        "sensor2 = data['sensor_2']\n",
        "sensor3 = data['sensor_3']\n",
        "sensor4 = data['sensor_4']\n",
        "sensor5 = data['sensor_5']\n",
        "sensor6 = data['sensor_6']\n",
        "sensor7 = data['sensor_7']\n",
        "sensor8 = data['sensor_8']\n",
        "sensor9 = data['sensor_9']\n",
        "sensor10 = data['sensor_10']\n",
        "sensor11 = data['sensor_11']\n",
        "sensor12 = data['sensor_12']\n",
        "sensor13 = data['sensor_13']\n",
        "sensor14 = data['sensor_14']\n",
        "sensor15 = data['sensor_15']\n",
        "sensor16 = data['sensor_16']\n",
        "sensor17 = data['sensor_17']\n",
        "sensor18 = data['sensor_18']\n",
        "sensor19 = data['sensor_19']\n",
        "sensor20 = data['sensor_20']\n",
        "sensor21 = data['sensor_21']\n",
        "sensor22 = data['sensor_22']\n",
        "sensor23 = data['sensor_23']\n",
        "sensor24 = data['sensor_24']\n",
        "\n"
      ]
    },
    {
      "cell_type": "code",
      "execution_count": null,
      "metadata": {
        "colab": {
          "base_uri": "https://localhost:8080/",
          "height": 1000
        },
        "id": "09vyo8xpgJ79",
        "outputId": "919bad5e-49df-44b5-d4b6-0ed7eaa0c680"
      },
      "outputs": [
        {
          "data": {
            "image/png": "[encoded data removed]",
            "text/plain": [
              "<Figure size 720x432 with 1 Axes>"
            ]
          },
          "metadata": {
            "needs_background": "light"
          },
          "output_type": "display_data"
        },
        {
          "data": {
            "image/png": "[encoded data removed]",
            "text/plain": [
              "<Figure size 720x432 with 1 Axes>"
            ]
          },
          "metadata": {
            "needs_background": "light"
          },
          "output_type": "display_data"
        },
        {
          "data": {
            "image/png": "[encoded data removed]",
            "text/plain": [
              "<Figure size 720x432 with 1 Axes>"
            ]
          },
          "metadata": {
            "needs_background": "light"
          },
          "output_type": "display_data"
        },
        {
          "data": {
            "image/png": "[encoded data removed]",
            "text/plain": [
              "<Figure size 720x432 with 1 Axes>"
            ]
          },
          "metadata": {
            "needs_background": "light"
          },
          "output_type": "display_data"
        },
        {
          "data": {
            "image/png": "[encoded data removed]",
            "text/plain": [
              "<Figure size 720x432 with 1 Axes>"
            ]
          },
          "metadata": {
            "needs_background": "light"
          },
          "output_type": "display_data"
        },
        {
          "data": {
            "image/png": "[encoded data removed]",
            "text/plain": [
              "<Figure size 720x432 with 1 Axes>"
            ]
          },
          "metadata": {
            "needs_background": "light"
          },
          "output_type": "display_data"
        },
        {
          "data": {
            "image/png": "[encoded data removed]",
            "text/plain": [
              "<Figure size 720x432 with 1 Axes>"
            ]
          },
          "metadata": {
            "needs_background": "light"
          },
          "output_type": "display_data"
        },
        {
          "data": {
            "image/png": "[encoded data removed]",
            "text/plain": [
              "<Figure size 720x432 with 1 Axes>"
            ]
          },
          "metadata": {
            "needs_background": "light"
          },
          "output_type": "display_data"
        },
        {
          "data": {
            "image/png": "[encoded data removed]",
            "text/plain": [
              "<Figure size 720x432 with 1 Axes>"
            ]
          },
          "metadata": {
            "needs_background": "light"
          },
          "output_type": "display_data"
        },
        {
          "data": {
            "image/png": "[encoded data removed]",
            "text/plain": [
              "<Figure size 720x432 with 1 Axes>"
            ]
          },
          "metadata": {
            "needs_background": "light"
          },
          "output_type": "display_data"
        },
        {
          "data": {
            "image/png": "[encoded data removed]",
            "text/plain": [
              "<Figure size 720x432 with 1 Axes>"
            ]
          },
          "metadata": {
            "needs_background": "light"
          },
          "output_type": "display_data"
        },
        {
          "data": {
            "image/png": "[encoded data removed]",
            "text/plain": [
              "<Figure size 720x432 with 1 Axes>"
            ]
          },
          "metadata": {
            "needs_background": "light"
          },
          "output_type": "display_data"
        },
        {
          "data": {
            "image/png": "[encoded data removed]",
            "text/plain": [
              "<Figure size 720x432 with 1 Axes>"
            ]
          },
          "metadata": {
            "needs_background": "light"
          },
          "output_type": "display_data"
        },
        {
          "data": {
            "image/png": "[encoded data removed]",
            "text/plain": [
              "<Figure size 720x432 with 1 Axes>"
            ]
          },
          "metadata": {
            "needs_background": "light"
          },
          "output_type": "display_data"
        },
        {
          "data": {
            "image/png": "[encoded data removed]",
            "text/plain": [
              "<Figure size 720x432 with 1 Axes>"
            ]
          },
          "metadata": {
            "needs_background": "light"
          },
          "output_type": "display_data"
        },
        {
          "data": {
            "image/png": "[encoded data removed]",
            "text/plain": [
              "<Figure size 720x432 with 1 Axes>"
            ]
          },
          "metadata": {
            "needs_background": "light"
          },
          "output_type": "display_data"
        },
        {
          "data": {
            "image/png": "[encoded data removed]",
            "text/plain": [
              "<Figure size 720x432 with 1 Axes>"
            ]
          },
          "metadata": {
            "needs_background": "light"
          },
          "output_type": "display_data"
        },
        {
          "data": {
            "image/png": "[encoded data removed]",
            "text/plain": [
              "<Figure size 720x432 with 1 Axes>"
            ]
          },
          "metadata": {
            "needs_background": "light"
          },
          "output_type": "display_data"
        },
        {
          "data": {
            "image/png": "[encoded data removed]",
            "text/plain": [
              "<Figure size 720x432 with 1 Axes>"
            ]
          },
          "metadata": {
            "needs_background": "light"
          },
          "output_type": "display_data"
        },
        {
          "data": {
            "image/png": "[encoded data removed]",
            "text/plain": [
              "<Figure size 720x432 with 1 Axes>"
            ]
          },
          "metadata": {
            "needs_background": "light"
          },
          "output_type": "display_data"
        },
        {
          "data": {
            "image/png": "[encoded data removed]",
            "text/plain": [
              "<Figure size 720x432 with 1 Axes>"
            ]
          },
          "metadata": {
            "needs_background": "light"
          },
          "output_type": "display_data"
        },
        {
          "data": {
            "image/png": "[encoded data removed]",
            "text/plain": [
              "<Figure size 720x432 with 1 Axes>"
            ]
          },
          "metadata": {
            "needs_background": "light"
          },
          "output_type": "display_data"
        },
        {
          "data": {
            "image/png": "[encoded data removed]",
            "text/plain": [
              "<Figure size 720x432 with 1 Axes>"
            ]
          },
          "metadata": {
            "needs_background": "light"
          },
          "output_type": "display_data"
        },
        {
          "data": {
            "image/png": "[encoded data removed]",
            "text/plain": [
              "<Figure size 720x432 with 1 Axes>"
            ]
          },
          "metadata": {
            "needs_background": "light"
          },
          "output_type": "display_data"
        }
      ],
      "source": [
        "#Colocando todos os sensores em uma lista\n",
        "sensores = [sensor1, sensor2, sensor3, sensor4, sensor5, sensor6, sensor7, sensor8,\n",
        "            sensor9, sensor10, sensor11, sensor12, sensor13, sensor14, sensor15, sensor16,\n",
        "            sensor17, sensor18, sensor19, sensor20, sensor21, sensor22, sensor23, sensor24]\n",
        "\n",
        "nomes = [\"sensor1\", \"sensor2\", \"sensor3\", \"sensor4\", \"sensor5\", \"sensor6\", \"sensor7\", \"sensor8\",\n",
        "         \"sensor9\", \"sensor10\", \"sensor11\", \"sensor12\", \"sensor13\", \"sensor14\", \"sensor15\", \"sensor16\",\n",
        "         \"sensor17\", \"sensor18\", \"sensor19\", \"sensor20\", \"sensor21\", \"sensor22\", \"sensor23\", \"sensor24\"]\n",
        "\n",
        "# Criando os Boxsplots\n",
        "a = 0\n",
        "for i in range(24):\n",
        "  fig, ax = plt.subplots(figsize=(10,6), sharey= True)\n",
        "  plt.subplots_adjust(hspace=0.3, wspace=0.2)\n",
        "  ax.set_title(f\"{nomes[a]}\", fontsize=20, fontstyle=\"italic\")\n",
        "  ax.boxplot(sensores[a])\n",
        "  ax.set_ylabel(\"Média de Ângulo do sensor\", fontsize=16)\n",
        "  ax.set_xlabel(\"Sensor\", fontsize=16)\n",
        "  a+= 1\n",
        "  # Ajustando espaço entre os BoxPlots\n",
        "  plt.subplots_adjust(bottom=0.1,  \n",
        "                      top=0.9, \n",
        "                      wspace=0.7, \n",
        "                      hspace=0.7)\n",
        "  plt.show()\n",
        "\n"
      ]
    },
    {
      "cell_type": "markdown",
      "metadata": {
        "id": "B_NEuWXDy73Q"
      },
      "source": [
        "###Não será feita o tratamento de Outliers pois se tratam de dados de ângulos de um teste, logo são de extrema importancia, não podendo ser descartados"
      ]
    },
    {
      "cell_type": "markdown",
      "metadata": {
        "id": "JsRZcKm4Nwha"
      },
      "source": [
        "## Gráfico sobre as funções do Robô"
      ]
    },
    {
      "cell_type": "code",
      "execution_count": null,
      "metadata": {
        "colab": {
          "base_uri": "https://localhost:8080/",
          "height": 415
        },
        "id": "_KjJW92eM4kS",
        "outputId": "e2b591fe-ab25-4d37-d8ac-12c501feb0b5"
      },
      "outputs": [
        {
          "data": {
            "image/png": "[encoded data removed]",
            "text/plain": [
              "<Figure size 720x432 with 1 Axes>"
            ]
          },
          "metadata": {
            "needs_background": "light"
          },
          "output_type": "display_data"
        }
      ],
      "source": [
        "fig, ax = plt.subplots(figsize =(10,6))\n",
        "ax.hist(data['funcao_robo'], bins = 10)\n",
        "\n",
        "ax.set_xlabel(\"Funções\", fontsize=16)\n",
        "ax.set_ylabel(\"Quantidade de execuções\", fontsize=16)\n",
        "\n",
        "# título\n",
        "ax.set_title(\"Tipos das Funções do Robô\",\n",
        "             fontsize=20, fontstyle=\"italic\")\n",
        "plt.show()"
      ]
    },
    {
      "cell_type": "markdown",
      "metadata": {
        "id": "NfhgQi5OMHYx"
      },
      "source": [
        "##Feature engineering"
      ]
    },
    {
      "cell_type": "code",
      "execution_count": null,
      "metadata": {
        "id": "27s5uvvGOTXY"
      },
      "outputs": [],
      "source": [
        "#imports\n",
        "from sklearn import datasets\n",
        "from sklearn.preprocessing import MinMaxScaler, StandardScaler\n",
        "from sklearn.model_selection import train_test_split\n",
        "from sklearn.neighbors import KNeighborsClassifier\n",
        "from sklearn import metrics\n",
        "from sklearn.preprocessing import LabelEncoder\n",
        "from sklearn.model_selection import train_test_split\n",
        "from sklearn.preprocessing import StandardScaler\n",
        "from sklearn.linear_model import LinearRegression\n",
        "from sklearn.metrics import mean_squared_error, mean_absolute_error, r2_score\n",
        "from sklearn import metrics\n",
        "from sklearn import svm"
      ]
    },
    {
      "cell_type": "code",
      "execution_count": null,
      "metadata": {
        "id": "lp24fNU-MJ7m"
      },
      "outputs": [],
      "source": [
        "le = LabelEncoder()\n",
        "data['funcao_robo'] = le.fit_transform(data['funcao_robo'])"
      ]
    },
    {
      "cell_type": "markdown",
      "metadata": {
        "id": "_POCwhqrPAlT"
      },
      "source": [
        "###Separando para treino e teste a coluna de Função Robo"
      ]
    },
    {
      "cell_type": "code",
      "execution_count": null,
      "metadata": {
        "id": "TQVX6jygPGNs"
      },
      "outputs": [],
      "source": [
        "# Separa DADOS e LABELS\n",
        "x = data.drop(columns=[\"funcao_robo\"])\n",
        "y = data[\"funcao_robo\"]\n",
        "\n",
        "# Dividir o dataset em TREINO e TESTE\n",
        "X_train, X_test, y_train, y_test = train_test_split(x,\n",
        "                                                    y,\n",
        "                                                    test_size=0.3,\n",
        "                                                    random_state=101)"
      ]
    },
    {
      "cell_type": "code",
      "execution_count": null,
      "metadata": {
        "colab": {
          "base_uri": "https://localhost:8080/"
        },
        "id": "erVyaET4PKYe",
        "outputId": "d9aaf066-be89-450f-a82e-0548804dc2a1"
      },
      "outputs": [
        {
          "name": "stdout",
          "output_type": "stream",
          "text": [
            "N dados =  5115\n",
            "X_train =  3580\n",
            "X_test =  1535\n",
            "y_train =  3580\n",
            "y_test =  1535\n"
          ]
        }
      ],
      "source": [
        "# Testando\n",
        "print(\"N dados = \", len(x))\n",
        "print(\"X_train = \", len(X_train))\n",
        "print(\"X_test = \", len(X_test))\n",
        "print(\"y_train = \", len(y_train))\n",
        "print(\"y_test = \", len(y_test))"
      ]
    },
    {
      "cell_type": "code",
      "execution_count": null,
      "metadata": {
        "id": "PczJnWDGPu_v"
      },
      "outputs": [],
      "source": [
        "# Normalizando os Dados\n",
        "norm = MinMaxScaler()\n",
        "X_train_norm = norm.fit_transform(X_train) \n",
        "X_test_norm = norm.transform(X_test)\n",
        "\n",
        "# Padronizando os Dados\n",
        "scaler = StandardScaler()\n",
        "X_train_scaled = scaler.fit_transform(X_train)\n",
        "X_test_scaled = scaler.transform(X_test)\n"
      ]
    },
    {
      "cell_type": "markdown",
      "metadata": {
        "id": "sNx0LxgXbQzC"
      },
      "source": [
        "###Utilizei modelos de Classificação pois queriamos identificar todas as funções do robo, e prever quais funções serão mais utilizadas"
      ]
    },
    {
      "cell_type": "markdown",
      "metadata": {
        "id": "yoGGQ0m7a270"
      },
      "source": [
        "##SVM"
      ]
    },
    {
      "cell_type": "markdown",
      "metadata": {
        "id": "s_MTMBfyo7kx"
      },
      "source": [
        "####X train - Sem Normalização"
      ]
    },
    {
      "cell_type": "code",
      "execution_count": null,
      "metadata": {
        "colab": {
          "base_uri": "https://localhost:8080/",
          "height": 386
        },
        "id": "AfXc_PpIo_6t",
        "outputId": "5a9915d0-a883-4c94-9a5f-986f524f7d85"
      },
      "outputs": [
        {
          "name": "stderr",
          "output_type": "stream",
          "text": [
            "/usr/local/lib/python3.7/dist-packages/sklearn/base.py:451: UserWarning: X does not have valid feature names, but SVC was fitted with feature names\n",
            "  \"X does not have valid feature names, but\"\n",
            "/usr/local/lib/python3.7/dist-packages/sklearn/utils/deprecation.py:87: FutureWarning: Function plot_confusion_matrix is deprecated; Function `plot_confusion_matrix` is deprecated in 1.0 and will be removed in 1.2. Use one of the class methods: ConfusionMatrixDisplay.from_predictions or ConfusionMatrixDisplay.from_estimator.\n",
            "  warnings.warn(msg, category=FutureWarning)\n"
          ]
        },
        {
          "name": "stdout",
          "output_type": "stream",
          "text": [
            "     ACC:  0.4091205211726384\n"
          ]
        },
        {
          "data": {
            "image/png": "[encoded data removed]",
            "text/plain": [
              "<Figure size 432x288 with 2 Axes>"
            ]
          },
          "metadata": {
            "needs_background": "light"
          },
          "output_type": "display_data"
        }
      ],
      "source": [
        "# Cria o modelo preditivo\n",
        "modelo = svm.SVC()\n",
        "modelo.fit(X_train, y_train)\n",
        "y_pred = modelo.predict(X_test_scaled)\n",
        "\n",
        "# Avaliando o modelo\n",
        "metrics.plot_confusion_matrix(modelo, X_test, y_test, cmap=\"Blues\");\n",
        "print(\"     ACC: \", metrics.accuracy_score(y_test, y_pred))"
      ]
    },
    {
      "cell_type": "markdown",
      "metadata": {
        "id": "FSdCSUvNo7eU"
      },
      "source": [
        "####X train - Normalizado"
      ]
    },
    {
      "cell_type": "code",
      "execution_count": null,
      "metadata": {
        "colab": {
          "base_uri": "https://localhost:8080/",
          "height": 351
        },
        "id": "SgHSxubfxzU0",
        "outputId": "b31a841f-625d-4dea-8f12-6c2d76c0b586"
      },
      "outputs": [
        {
          "name": "stderr",
          "output_type": "stream",
          "text": [
            "/usr/local/lib/python3.7/dist-packages/sklearn/utils/deprecation.py:87: FutureWarning: Function plot_confusion_matrix is deprecated; Function `plot_confusion_matrix` is deprecated in 1.0 and will be removed in 1.2. Use one of the class methods: ConfusionMatrixDisplay.from_predictions or ConfusionMatrixDisplay.from_estimator.\n",
            "  warnings.warn(msg, category=FutureWarning)\n"
          ]
        },
        {
          "name": "stdout",
          "output_type": "stream",
          "text": [
            "     ACC:  0.4091205211726384\n"
          ]
        },
        {
          "data": {
            "image/png": "[encoded data removed]",
            "text/plain": [
              "<Figure size 432x288 with 2 Axes>"
            ]
          },
          "metadata": {
            "needs_background": "light"
          },
          "output_type": "display_data"
        }
      ],
      "source": [
        "# Cria o modelo preditivo\n",
        "modelo = svm.SVC()\n",
        "modelo.fit(X_train_norm, y_train)\n",
        "y_pred = modelo.predict(X_test_scaled)\n",
        "\n",
        "# Avaliando o modelo\n",
        "metrics.plot_confusion_matrix(modelo, X_test_norm, y_test, cmap=\"Blues\");\n",
        "print(\"     ACC: \", metrics.accuracy_score(y_test, y_pred))"
      ]
    },
    {
      "cell_type": "markdown",
      "metadata": {
        "id": "Ls2RL-jTo7Qa"
      },
      "source": [
        "####X train - Padronizado"
      ]
    },
    {
      "cell_type": "code",
      "execution_count": null,
      "metadata": {
        "colab": {
          "base_uri": "https://localhost:8080/",
          "height": 351
        },
        "id": "N42A7SLIx-zc",
        "outputId": "d3d11269-c8c5-4fa9-c58f-def4b4574749"
      },
      "outputs": [
        {
          "name": "stderr",
          "output_type": "stream",
          "text": [
            "/usr/local/lib/python3.7/dist-packages/sklearn/utils/deprecation.py:87: FutureWarning: Function plot_confusion_matrix is deprecated; Function `plot_confusion_matrix` is deprecated in 1.0 and will be removed in 1.2. Use one of the class methods: ConfusionMatrixDisplay.from_predictions or ConfusionMatrixDisplay.from_estimator.\n",
            "  warnings.warn(msg, category=FutureWarning)\n"
          ]
        },
        {
          "name": "stdout",
          "output_type": "stream",
          "text": [
            "     ACC:  0.8859934853420195\n"
          ]
        },
        {
          "data": {
            "image/png": "[encoded data removed]",
            "text/plain": [
              "<Figure size 432x288 with 2 Axes>"
            ]
          },
          "metadata": {
            "needs_background": "light"
          },
          "output_type": "display_data"
        }
      ],
      "source": [
        "# Cria o modelo preditivo\n",
        "modelo = svm.SVC()\n",
        "modelo.fit(X_train_scaled, y_train)\n",
        "y_pred = modelo.predict(X_test_scaled)\n",
        "\n",
        "# Avaliando o modelo\n",
        "metrics.plot_confusion_matrix(modelo, X_test_scaled, y_test, cmap=\"Blues\");\n",
        "print(\"     ACC: \", metrics.accuracy_score(y_test, y_pred))"
      ]
    },
    {
      "cell_type": "markdown",
      "metadata": {
        "id": "SjphrBZ1b7C_"
      },
      "source": [
        "###Após os testes utilizando o SVM e utilizando os dados não normalizados, normalizados e padronizados. Da para percerber um bom resultado da Acurácia quando foi utilizado os dados padronizados, tendo uma porcentagem de 88% de precisão, enquanto os outros tiveram a porcentagem na casa dos 40% "
      ]
    },
    {
      "cell_type": "markdown",
      "metadata": {
        "id": "p-JXHxe2zybZ"
      },
      "source": [
        "##KNN"
      ]
    },
    {
      "cell_type": "code",
      "execution_count": null,
      "metadata": {
        "id": "_rHW3iNz0gNq"
      },
      "outputs": [],
      "source": [
        "from sklearn.neighbors import KNeighborsClassifier"
      ]
    },
    {
      "cell_type": "markdown",
      "metadata": {
        "id": "4GXA2sKY0S_G"
      },
      "source": [
        "####X train - Sem Normalização\n"
      ]
    },
    {
      "cell_type": "code",
      "execution_count": null,
      "metadata": {
        "colab": {
          "base_uri": "https://localhost:8080/",
          "height": 351
        },
        "id": "LOU-4RlC0zF8",
        "outputId": "3312ad65-a2ac-4fb8-b693-b72218e16bc8"
      },
      "outputs": [
        {
          "name": "stderr",
          "output_type": "stream",
          "text": [
            "/usr/local/lib/python3.7/dist-packages/sklearn/utils/deprecation.py:87: FutureWarning: Function plot_confusion_matrix is deprecated; Function `plot_confusion_matrix` is deprecated in 1.0 and will be removed in 1.2. Use one of the class methods: ConfusionMatrixDisplay.from_predictions or ConfusionMatrixDisplay.from_estimator.\n",
            "  warnings.warn(msg, category=FutureWarning)\n"
          ]
        },
        {
          "name": "stdout",
          "output_type": "stream",
          "text": [
            "     ACC:  0.752442996742671\n"
          ]
        },
        {
          "data": {
            "image/png": "[encoded data removed]",
            "text/plain": [
              "<Figure size 432x288 with 2 Axes>"
            ]
          },
          "metadata": {
            "needs_background": "light"
          },
          "output_type": "display_data"
        }
      ],
      "source": [
        "# Cria o modelo preditivo\n",
        "knn = KNeighborsClassifier(n_neighbors=int( (len(y_train) + len(y_test)) ** 0.5 ))\n",
        "knn.fit(X_train, y_train)\n",
        "y_pred = knn.predict(X_test)\n",
        "\n",
        "# Avaliando o modelo\n",
        "metrics.plot_confusion_matrix(knn, X_test, y_test, cmap=\"bone\");\n",
        "print(\"     ACC: \", metrics.accuracy_score(y_test, y_pred))"
      ]
    },
    {
      "cell_type": "markdown",
      "metadata": {
        "id": "KDeqh12S0Utt"
      },
      "source": [
        "####X train - Normalizado"
      ]
    },
    {
      "cell_type": "code",
      "execution_count": null,
      "metadata": {
        "colab": {
          "base_uri": "https://localhost:8080/",
          "height": 351
        },
        "id": "ifw_72rR1sBJ",
        "outputId": "484fc3d3-faf6-41d0-fde3-b9b8cfc66f02"
      },
      "outputs": [
        {
          "name": "stderr",
          "output_type": "stream",
          "text": [
            "/usr/local/lib/python3.7/dist-packages/sklearn/utils/deprecation.py:87: FutureWarning: Function plot_confusion_matrix is deprecated; Function `plot_confusion_matrix` is deprecated in 1.0 and will be removed in 1.2. Use one of the class methods: ConfusionMatrixDisplay.from_predictions or ConfusionMatrixDisplay.from_estimator.\n",
            "  warnings.warn(msg, category=FutureWarning)\n"
          ]
        },
        {
          "name": "stdout",
          "output_type": "stream",
          "text": [
            "     ACC:  0.7413680781758958\n"
          ]
        },
        {
          "data": {
            "image/png": "[encoded data removed]",
            "text/plain": [
              "<Figure size 432x288 with 2 Axes>"
            ]
          },
          "metadata": {
            "needs_background": "light"
          },
          "output_type": "display_data"
        }
      ],
      "source": [
        "# Cria o modelo preditivo\n",
        "knn = KNeighborsClassifier(n_neighbors=int( (len(y_train) + len(y_test)) ** 0.5 ))\n",
        "knn.fit(X_train_norm, y_train)\n",
        "y_pred = knn.predict(X_test_norm)\n",
        "\n",
        "# Avaliando o modelo\n",
        "metrics.plot_confusion_matrix(knn, X_test_norm, y_test, cmap=\"bone\");\n",
        "print(\"     ACC: \", metrics.accuracy_score(y_test, y_pred))"
      ]
    },
    {
      "cell_type": "markdown",
      "metadata": {
        "id": "IC6cd26x0WPl"
      },
      "source": [
        "####X train - Padronizado"
      ]
    },
    {
      "cell_type": "code",
      "execution_count": null,
      "metadata": {
        "colab": {
          "base_uri": "https://localhost:8080/",
          "height": 351
        },
        "id": "Z-d8YUHp2Scz",
        "outputId": "7027f957-c8ca-4ae1-ff6a-7f47c35a3135"
      },
      "outputs": [
        {
          "name": "stderr",
          "output_type": "stream",
          "text": [
            "/usr/local/lib/python3.7/dist-packages/sklearn/utils/deprecation.py:87: FutureWarning: Function plot_confusion_matrix is deprecated; Function `plot_confusion_matrix` is deprecated in 1.0 and will be removed in 1.2. Use one of the class methods: ConfusionMatrixDisplay.from_predictions or ConfusionMatrixDisplay.from_estimator.\n",
            "  warnings.warn(msg, category=FutureWarning)\n"
          ]
        },
        {
          "name": "stdout",
          "output_type": "stream",
          "text": [
            "     ACC:  0.7583061889250814\n"
          ]
        },
        {
          "data": {
            "image/png": "[encoded data removed]",
            "text/plain": [
              "<Figure size 432x288 with 2 Axes>"
            ]
          },
          "metadata": {
            "needs_background": "light"
          },
          "output_type": "display_data"
        }
      ],
      "source": [
        "# Cria o modelo preditivo\n",
        "knn = KNeighborsClassifier(n_neighbors=int( (len(y_train) + len(y_test)) ** 0.5 ))\n",
        "knn.fit(X_train_scaled, y_train)\n",
        "y_pred = knn.predict(X_test_scaled)\n",
        "\n",
        "# Avaliando o modelo\n",
        "metrics.plot_confusion_matrix(knn, X_test_scaled, y_test, cmap=\"bone\");\n",
        "print(\"     ACC: \", metrics.accuracy_score(y_test, y_pred))"
      ]
    },
    {
      "cell_type": "markdown",
      "metadata": {
        "id": "Lue8KEMEc0o8"
      },
      "source": []
    },
    {
      "cell_type": "markdown",
      "metadata": {
        "id": "6mUAW_0hc5gz"
      },
      "source": [
        "###Após os testes utilizando o KNN não houve diferença entre os tipos de dados utilizados mostrando uma boa média de porcentagem de 75%"
      ]
    },
    {
      "cell_type": "markdown",
      "metadata": {
        "id": "oSr5vhHx2knK"
      },
      "source": [
        "##Decision Tree Classifier"
      ]
    },
    {
      "cell_type": "code",
      "execution_count": null,
      "metadata": {
        "id": "QTBffJ8s5hez"
      },
      "outputs": [],
      "source": [
        "from sklearn.tree import DecisionTreeClassifier"
      ]
    },
    {
      "cell_type": "markdown",
      "metadata": {
        "id": "ZumRkL9s5mrK"
      },
      "source": [
        "####X train - Sem Normalização"
      ]
    },
    {
      "cell_type": "code",
      "execution_count": null,
      "metadata": {
        "colab": {
          "base_uri": "https://localhost:8080/",
          "height": 351
        },
        "id": "7byjjcnj6Nsp",
        "outputId": "bd415a91-27ac-453a-a1da-f070ab8c9528"
      },
      "outputs": [
        {
          "name": "stderr",
          "output_type": "stream",
          "text": [
            "/usr/local/lib/python3.7/dist-packages/sklearn/utils/deprecation.py:87: FutureWarning: Function plot_confusion_matrix is deprecated; Function `plot_confusion_matrix` is deprecated in 1.0 and will be removed in 1.2. Use one of the class methods: ConfusionMatrixDisplay.from_predictions or ConfusionMatrixDisplay.from_estimator.\n",
            "  warnings.warn(msg, category=FutureWarning)\n"
          ]
        },
        {
          "name": "stdout",
          "output_type": "stream",
          "text": [
            "     ACC:  0.9980456026058632\n"
          ]
        },
        {
          "data": {
            "image/png": "[encoded data removed]",
            "text/plain": [
              "<Figure size 432x288 with 2 Axes>"
            ]
          },
          "metadata": {
            "needs_background": "light"
          },
          "output_type": "display_data"
        }
      ],
      "source": [
        "# Cria o modelo preditivo\n",
        "tree = DecisionTreeClassifier()\n",
        "tree.fit(X_train, y_train)\n",
        "y_pred = tree.predict(X_test)\n",
        "\n",
        "# Avaliando o modelo\n",
        "metrics.plot_confusion_matrix(tree, X_test, y_test, cmap=\"gist_heat\");\n",
        "print(\"     ACC: \", metrics.accuracy_score(y_test, y_pred))"
      ]
    },
    {
      "cell_type": "markdown",
      "metadata": {
        "id": "pCx7bsdm5pdk"
      },
      "source": [
        "####X train - Normalizado"
      ]
    },
    {
      "cell_type": "code",
      "execution_count": null,
      "metadata": {
        "colab": {
          "base_uri": "https://localhost:8080/",
          "height": 351
        },
        "id": "mtS9Z4hn7ZVK",
        "outputId": "7fcaa5bf-f068-4b13-87f7-a1d54c11aa16"
      },
      "outputs": [
        {
          "name": "stdout",
          "output_type": "stream",
          "text": [
            "     ACC:  0.9960912052117263\n"
          ]
        },
        {
          "name": "stderr",
          "output_type": "stream",
          "text": [
            "/usr/local/lib/python3.7/dist-packages/sklearn/utils/deprecation.py:87: FutureWarning: Function plot_confusion_matrix is deprecated; Function `plot_confusion_matrix` is deprecated in 1.0 and will be removed in 1.2. Use one of the class methods: ConfusionMatrixDisplay.from_predictions or ConfusionMatrixDisplay.from_estimator.\n",
            "  warnings.warn(msg, category=FutureWarning)\n"
          ]
        },
        {
          "data": {
            "image/png": "[encoded data removed]",
            "text/plain": [
              "<Figure size 432x288 with 2 Axes>"
            ]
          },
          "metadata": {
            "needs_background": "light"
          },
          "output_type": "display_data"
        }
      ],
      "source": [
        "# Cria o modelo preditivo\n",
        "tree = DecisionTreeClassifier()\n",
        "tree.fit(X_train_norm, y_train)\n",
        "y_pred = tree.predict(X_test_norm)\n",
        "\n",
        "# Avaliando o modelo\n",
        "metrics.plot_confusion_matrix(tree, X_test_norm, y_test, cmap=\"gist_heat\");\n",
        "print(\"     ACC: \", metrics.accuracy_score(y_test, y_pred))"
      ]
    },
    {
      "cell_type": "markdown",
      "metadata": {
        "id": "XVyqfM0W5uTD"
      },
      "source": [
        "####X train - Padronizado"
      ]
    },
    {
      "cell_type": "code",
      "execution_count": null,
      "metadata": {
        "colab": {
          "base_uri": "https://localhost:8080/",
          "height": 351
        },
        "id": "TnPXHuWP8jJC",
        "outputId": "89314158-b714-46c6-cb88-492e244c7314"
      },
      "outputs": [
        {
          "name": "stderr",
          "output_type": "stream",
          "text": [
            "/usr/local/lib/python3.7/dist-packages/sklearn/utils/deprecation.py:87: FutureWarning: Function plot_confusion_matrix is deprecated; Function `plot_confusion_matrix` is deprecated in 1.0 and will be removed in 1.2. Use one of the class methods: ConfusionMatrixDisplay.from_predictions or ConfusionMatrixDisplay.from_estimator.\n",
            "  warnings.warn(msg, category=FutureWarning)\n"
          ]
        },
        {
          "name": "stdout",
          "output_type": "stream",
          "text": [
            "     ACC:  0.9980456026058632\n"
          ]
        },
        {
          "data": {
            "image/png": "[encoded data removed]",
            "text/plain": [
              "<Figure size 432x288 with 2 Axes>"
            ]
          },
          "metadata": {
            "needs_background": "light"
          },
          "output_type": "display_data"
        }
      ],
      "source": [
        "# Cria o modelo preditivo\n",
        "tree = DecisionTreeClassifier()\n",
        "tree.fit(X_train_scaled, y_train)\n",
        "y_pred = tree.predict(X_test_scaled)\n",
        "\n",
        "# Avaliando o modelo\n",
        "metrics.plot_confusion_matrix(tree, X_test_scaled, y_test, cmap=\"gist_heat\");\n",
        "print(\"     ACC: \", metrics.accuracy_score(y_test, y_pred))"
      ]
    },
    {
      "cell_type": "markdown",
      "metadata": {
        "id": "aknNHwD9dP_o"
      },
      "source": [
        "###Após os testes utilizando o Decision Tree Classifier, tivemos uma Acurácia quase perfeita na casa dos 99%, se mostrando o melhor modelo utilizado em todos os tipos de dados testados"
      ]
    },
    {
      "cell_type": "markdown",
      "metadata": {
        "id": "3u4o0nlo89-B"
      },
      "source": [
        "##RandomForestClassifier"
      ]
    },
    {
      "cell_type": "code",
      "execution_count": null,
      "metadata": {
        "id": "RRLDzZOM9NiB"
      },
      "outputs": [],
      "source": [
        "from sklearn.ensemble import RandomForestClassifier"
      ]
    },
    {
      "cell_type": "markdown",
      "metadata": {
        "id": "EogiL7vd9QVl"
      },
      "source": [
        "####X train - Sem Normalização"
      ]
    },
    {
      "cell_type": "code",
      "execution_count": null,
      "metadata": {
        "colab": {
          "base_uri": "https://localhost:8080/",
          "height": 351
        },
        "id": "T9Fge-jQ9nt4",
        "outputId": "6fbe34a8-92c3-40b2-aaf5-71e930a4c07b"
      },
      "outputs": [
        {
          "name": "stderr",
          "output_type": "stream",
          "text": [
            "/usr/local/lib/python3.7/dist-packages/sklearn/utils/deprecation.py:87: FutureWarning: Function plot_confusion_matrix is deprecated; Function `plot_confusion_matrix` is deprecated in 1.0 and will be removed in 1.2. Use one of the class methods: ConfusionMatrixDisplay.from_predictions or ConfusionMatrixDisplay.from_estimator.\n",
            "  warnings.warn(msg, category=FutureWarning)\n"
          ]
        },
        {
          "name": "stdout",
          "output_type": "stream",
          "text": [
            "     ACC:  0.9941368078175896\n"
          ]
        },
        {
          "data": {
            "image/png": "[encoded data removed]",
            "text/plain": [
              "<Figure size 432x288 with 2 Axes>"
            ]
          },
          "metadata": {
            "needs_background": "light"
          },
          "output_type": "display_data"
        }
      ],
      "source": [
        "# Cria o modelo preditivo\n",
        "floresta = RandomForestClassifier()\n",
        "floresta.fit(X_train, y_train)\n",
        "y_pred = floresta.predict(X_test)\n",
        "\n",
        "# Avaliando o modelo\n",
        "metrics.plot_confusion_matrix(floresta, X_test, y_test, cmap=\"cividis\");\n",
        "print(\"     ACC: \", metrics.accuracy_score(y_test, y_pred))"
      ]
    },
    {
      "cell_type": "markdown",
      "metadata": {
        "id": "yhsjSC7N9R2L"
      },
      "source": [
        "####X train - Normalizado"
      ]
    },
    {
      "cell_type": "code",
      "execution_count": null,
      "metadata": {
        "colab": {
          "base_uri": "https://localhost:8080/",
          "height": 351
        },
        "id": "GdhNrzKN9-7z",
        "outputId": "aa8b54e7-62c2-4ad9-ffd8-a4812f45e2ac"
      },
      "outputs": [
        {
          "name": "stderr",
          "output_type": "stream",
          "text": [
            "/usr/local/lib/python3.7/dist-packages/sklearn/utils/deprecation.py:87: FutureWarning: Function plot_confusion_matrix is deprecated; Function `plot_confusion_matrix` is deprecated in 1.0 and will be removed in 1.2. Use one of the class methods: ConfusionMatrixDisplay.from_predictions or ConfusionMatrixDisplay.from_estimator.\n",
            "  warnings.warn(msg, category=FutureWarning)\n"
          ]
        },
        {
          "name": "stdout",
          "output_type": "stream",
          "text": [
            "     ACC:  0.9954397394136808\n"
          ]
        },
        {
          "data": {
            "image/png": "[encoded data removed]",
            "text/plain": [
              "<Figure size 432x288 with 2 Axes>"
            ]
          },
          "metadata": {
            "needs_background": "light"
          },
          "output_type": "display_data"
        }
      ],
      "source": [
        "# Cria o modelo preditivo\n",
        "floresta = RandomForestClassifier()\n",
        "floresta.fit(X_train_norm, y_train)\n",
        "y_pred = floresta.predict(X_test_norm)\n",
        "\n",
        "# Avaliando o modelo\n",
        "metrics.plot_confusion_matrix(floresta, X_test_norm, y_test, cmap=\"cividis\");\n",
        "print(\"     ACC: \", metrics.accuracy_score(y_test, y_pred))"
      ]
    },
    {
      "cell_type": "markdown",
      "metadata": {
        "id": "mKm8go1k9S9K"
      },
      "source": [
        "####X train - Padronizado"
      ]
    },
    {
      "cell_type": "code",
      "execution_count": null,
      "metadata": {
        "colab": {
          "base_uri": "https://localhost:8080/",
          "height": 351
        },
        "id": "P2eNX1qc-FSj",
        "outputId": "0bb17723-4658-4d2a-d829-916e4e28a606"
      },
      "outputs": [
        {
          "name": "stderr",
          "output_type": "stream",
          "text": [
            "/usr/local/lib/python3.7/dist-packages/sklearn/utils/deprecation.py:87: FutureWarning: Function plot_confusion_matrix is deprecated; Function `plot_confusion_matrix` is deprecated in 1.0 and will be removed in 1.2. Use one of the class methods: ConfusionMatrixDisplay.from_predictions or ConfusionMatrixDisplay.from_estimator.\n",
            "  warnings.warn(msg, category=FutureWarning)\n"
          ]
        },
        {
          "name": "stdout",
          "output_type": "stream",
          "text": [
            "     ACC:  0.993485342019544\n"
          ]
        },
        {
          "data": {
            "image/png": "[encoded data removed]",
            "text/plain": [
              "<Figure size 432x288 with 2 Axes>"
            ]
          },
          "metadata": {
            "needs_background": "light"
          },
          "output_type": "display_data"
        }
      ],
      "source": [
        "# Cria o modelo preditivo\n",
        "floresta = RandomForestClassifier()\n",
        "floresta.fit(X_train_scaled, y_train)\n",
        "y_pred = floresta.predict(X_test_scaled)\n",
        "\n",
        "# Avaliando o modelo\n",
        "metrics.plot_confusion_matrix(floresta, X_test_scaled, y_test, cmap=\"cividis\");\n",
        "print(\"     ACC: \", metrics.accuracy_score(y_test, y_pred))"
      ]
    },
    {
      "cell_type": "markdown",
      "metadata": {
        "id": "iMRFOqdGd9K4"
      },
      "source": [
        "###Após os testes utilizando o RandomForestClassifier, tambem tivemos uma Acurácia quase perfeita na casa dos 99%"
      ]
    },
    {
      "cell_type": "markdown",
      "metadata": {
        "id": "c2hvCbM6eFNr"
      },
      "source": [
        "##Conclusão\n",
        "\n",
        "###Os melhores modelos foram os modelos de Árvore de Decisão, mostrando uma precisão impressionante, quase perfeita nos 99%, uma diferença muito grande comparado ao modelo KNN que ficou entorno dos 75% e do SVM que ficou com a Acurácia nos 40%"
      ]
    },
    {
      "cell_type": "markdown",
      "metadata": {
        "id": "hqnGi5UeTwyw"
      },
      "source": [
        "#-----------------------------------------------------------------------------------------------------------------------------------------------"
      ]
    },
    {
      "cell_type": "markdown",
      "metadata": {
        "id": "dFT2wlRuTsZ7"
      },
      "source": [
        "#Segundo Dataset"
      ]
    },
    {
      "cell_type": "markdown",
      "metadata": {
        "id": "6IDHs9WkRg2i"
      },
      "source": [
        "##Carro autônomo - dataset_velocidade.csv"
      ]
    },
    {
      "cell_type": "code",
      "execution_count": null,
      "metadata": {
        "id": "xYiodxzbRoNc"
      },
      "outputs": [],
      "source": [
        "# Lendo os dados das variaveis para data\n",
        "dataf = pd.read_csv(\"dataset_velocidade.csv\")"
      ]
    },
    {
      "cell_type": "code",
      "execution_count": null,
      "metadata": {
        "colab": {
          "base_uri": "https://localhost:8080/",
          "height": 424
        },
        "id": "nFS2kO-rSlzk",
        "outputId": "1ddeec58-14b4-4d41-a60c-087b8efbbc45"
      },
      "outputs": [
        {
          "data": {
            "text/html": [
              "\n",
              "  <div id=\"df-e67cc10c-3a53-42f8-bfbb-6e09b8273bd8\">\n",
              "    <div class=\"colab-df-container\">\n",
              "      <div>\n",
              "<style scoped>\n",
              "    .dataframe tbody tr th:only-of-type {\n",
              "        vertical-align: middle;\n",
              "    }\n",
              "\n",
              "    .dataframe tbody tr th {\n",
              "        vertical-align: top;\n",
              "    }\n",
              "\n",
              "    .dataframe thead th {\n",
              "        text-align: right;\n",
              "    }\n",
              "</style>\n",
              "<table border=\"1\" class=\"dataframe\">\n",
              "  <thead>\n",
              "    <tr style=\"text-align: right;\">\n",
              "      <th></th>\n",
              "      <th>no_speed_bump</th>\n",
              "      <th>acc_x_dashboard</th>\n",
              "      <th>acc_y_dashboard</th>\n",
              "      <th>acc_z_dashboard</th>\n",
              "      <th>gyro_x_dashboard</th>\n",
              "      <th>gyro_y_dashboard</th>\n",
              "      <th>gyro_z_dashboard</th>\n",
              "      <th>temp_dashboard</th>\n",
              "      <th>speed</th>\n",
              "      <th>road</th>\n",
              "    </tr>\n",
              "  </thead>\n",
              "  <tbody>\n",
              "    <tr>\n",
              "      <th>0</th>\n",
              "      <td>NaN</td>\n",
              "      <td>-0.029431</td>\n",
              "      <td>-0.019621</td>\n",
              "      <td>9.781015</td>\n",
              "      <td>-0.122070</td>\n",
              "      <td>-0.006327</td>\n",
              "      <td>-0.112208</td>\n",
              "      <td>32.166023</td>\n",
              "      <td>0.010822</td>\n",
              "      <td>paved</td>\n",
              "    </tr>\n",
              "    <tr>\n",
              "      <th>1</th>\n",
              "      <td>1.0</td>\n",
              "      <td>-0.039008</td>\n",
              "      <td>0.009110</td>\n",
              "      <td>9.819322</td>\n",
              "      <td>-0.030518</td>\n",
              "      <td>0.115743</td>\n",
              "      <td>-0.051173</td>\n",
              "      <td>32.453560</td>\n",
              "      <td>0.010822</td>\n",
              "      <td>paved</td>\n",
              "    </tr>\n",
              "    <tr>\n",
              "      <th>2</th>\n",
              "      <td>1.0</td>\n",
              "      <td>0.010073</td>\n",
              "      <td>0.005518</td>\n",
              "      <td>9.777423</td>\n",
              "      <td>-0.122070</td>\n",
              "      <td>0.100485</td>\n",
              "      <td>-0.020655</td>\n",
              "      <td>32.405637</td>\n",
              "      <td>0.010822</td>\n",
              "      <td>paved</td>\n",
              "    </tr>\n",
              "    <tr>\n",
              "      <th>3</th>\n",
              "      <td>1.0</td>\n",
              "      <td>0.020847</td>\n",
              "      <td>0.028263</td>\n",
              "      <td>9.785803</td>\n",
              "      <td>0.061035</td>\n",
              "      <td>0.207296</td>\n",
              "      <td>-0.112208</td>\n",
              "      <td>32.453560</td>\n",
              "      <td>0.010822</td>\n",
              "      <td>paved</td>\n",
              "    </tr>\n",
              "    <tr>\n",
              "      <th>4</th>\n",
              "      <td>1.0</td>\n",
              "      <td>-0.003095</td>\n",
              "      <td>-0.017227</td>\n",
              "      <td>9.800168</td>\n",
              "      <td>-0.091553</td>\n",
              "      <td>0.146261</td>\n",
              "      <td>-0.112208</td>\n",
              "      <td>32.309791</td>\n",
              "      <td>0.010822</td>\n",
              "      <td>paved</td>\n",
              "    </tr>\n",
              "    <tr>\n",
              "      <th>...</th>\n",
              "      <td>...</td>\n",
              "      <td>...</td>\n",
              "      <td>...</td>\n",
              "      <td>...</td>\n",
              "      <td>...</td>\n",
              "      <td>...</td>\n",
              "      <td>...</td>\n",
              "      <td>...</td>\n",
              "      <td>...</td>\n",
              "      <td>...</td>\n",
              "    </tr>\n",
              "    <tr>\n",
              "      <th>124679</th>\n",
              "      <td>1.0</td>\n",
              "      <td>0.427861</td>\n",
              "      <td>-0.261435</td>\n",
              "      <td>9.958185</td>\n",
              "      <td>0.030518</td>\n",
              "      <td>-0.006327</td>\n",
              "      <td>0.070898</td>\n",
              "      <td>32.070177</td>\n",
              "      <td>0.023570</td>\n",
              "      <td>paved</td>\n",
              "    </tr>\n",
              "    <tr>\n",
              "      <th>124680</th>\n",
              "      <td>1.0</td>\n",
              "      <td>0.466169</td>\n",
              "      <td>-0.316502</td>\n",
              "      <td>9.867206</td>\n",
              "      <td>-0.122070</td>\n",
              "      <td>-0.082621</td>\n",
              "      <td>-0.020655</td>\n",
              "      <td>32.094138</td>\n",
              "      <td>0.023570</td>\n",
              "      <td>paved</td>\n",
              "    </tr>\n",
              "    <tr>\n",
              "      <th>124681</th>\n",
              "      <td>1.0</td>\n",
              "      <td>0.332093</td>\n",
              "      <td>-0.555922</td>\n",
              "      <td>9.646939</td>\n",
              "      <td>-0.183105</td>\n",
              "      <td>-0.067362</td>\n",
              "      <td>0.101415</td>\n",
              "      <td>32.261868</td>\n",
              "      <td>0.023570</td>\n",
              "      <td>paved</td>\n",
              "    </tr>\n",
              "    <tr>\n",
              "      <th>124682</th>\n",
              "      <td>1.0</td>\n",
              "      <td>0.339276</td>\n",
              "      <td>-0.570287</td>\n",
              "      <td>9.824110</td>\n",
              "      <td>-0.122070</td>\n",
              "      <td>-0.006327</td>\n",
              "      <td>-0.173243</td>\n",
              "      <td>32.070177</td>\n",
              "      <td>0.023570</td>\n",
              "      <td>paved</td>\n",
              "    </tr>\n",
              "    <tr>\n",
              "      <th>124683</th>\n",
              "      <td>1.0</td>\n",
              "      <td>0.439832</td>\n",
              "      <td>-0.201580</td>\n",
              "      <td>10.101838</td>\n",
              "      <td>0.000000</td>\n",
              "      <td>0.176779</td>\n",
              "      <td>-0.234278</td>\n",
              "      <td>32.070177</td>\n",
              "      <td>0.023570</td>\n",
              "      <td>paved</td>\n",
              "    </tr>\n",
              "  </tbody>\n",
              "</table>\n",
              "<p>124684 rows × 10 columns</p>\n",
              "</div>\n",
              "      <button class=\"colab-df-convert\" onclick=\"convertToInteractive('df-e67cc10c-3a53-42f8-bfbb-6e09b8273bd8')\"\n",
              "              title=\"Convert this dataframe to an interactive table.\"\n",
              "              style=\"display:none;\">\n",
              "        \n",
              "  <svg xmlns=\"http://www.w3.org/2000/svg\" height=\"24px\"viewBox=\"0 0 24 24\"\n",
              "       width=\"24px\">\n",
              "    <path d=\"M0 0h24v24H0V0z\" fill=\"none\"/>\n",
              "    <path d=\"M18.56 5.44l.94 2.06.94-2.06 2.06-.94-2.06-.94-.94-2.06-.94 2.06-2.06.94zm-11 1L8.5 8.5l.94-2.06 2.06-.94-2.06-.94L8.5 2.5l-.94 2.06-2.06.94zm10 10l.94 2.06.94-2.06 2.06-.94-2.06-.94-.94-2.06-.94 2.06-2.06.94z\"/><path d=\"M17.41 7.96l-1.37-1.37c-.4-.4-.92-.59-1.43-.59-.52 0-1.04.2-1.43.59L10.3 9.45l-7.72 7.72c-.78.78-.78 2.05 0 2.83L4 21.41c.39.39.9.59 1.41.59.51 0 1.02-.2 1.41-.59l7.78-7.78 2.81-2.81c.8-.78.8-2.07 0-2.86zM5.41 20L4 18.59l7.72-7.72 1.47 1.35L5.41 20z\"/>\n",
              "  </svg>\n",
              "      </button>\n",
              "      \n",
              "  <style>\n",
              "    .colab-df-container {\n",
              "      display:flex;\n",
              "      flex-wrap:wrap;\n",
              "      gap: 12px;\n",
              "    }\n",
              "\n",
              "    .colab-df-convert {\n",
              "      background-color: #E8F0FE;\n",
              "      border: none;\n",
              "      border-radius: 50%;\n",
              "      cursor: pointer;\n",
              "      display: none;\n",
              "      fill: #1967D2;\n",
              "      height: 32px;\n",
              "      padding: 0 0 0 0;\n",
              "      width: 32px;\n",
              "    }\n",
              "\n",
              "    .colab-df-convert:hover {\n",
              "      background-color: #E2EBFA;\n",
              "      box-shadow: 0px 1px 2px rgba(60, 64, 67, 0.3), 0px 1px 3px 1px rgba(60, 64, 67, 0.15);\n",
              "      fill: #174EA6;\n",
              "    }\n",
              "\n",
              "    [theme=dark] .colab-df-convert {\n",
              "      background-color: #3B4455;\n",
              "      fill: #D2E3FC;\n",
              "    }\n",
              "\n",
              "    [theme=dark] .colab-df-convert:hover {\n",
              "      background-color: #434B5C;\n",
              "      box-shadow: 0px 1px 3px 1px rgba(0, 0, 0, 0.15);\n",
              "      filter: drop-shadow(0px 1px 2px rgba(0, 0, 0, 0.3));\n",
              "      fill: #FFFFFF;\n",
              "    }\n",
              "  </style>\n",
              "\n",
              "      <script>\n",
              "        const buttonEl =\n",
              "          document.querySelector('#df-e67cc10c-3a53-42f8-bfbb-6e09b8273bd8 button.colab-df-convert');\n",
              "        buttonEl.style.display =\n",
              "          google.colab.kernel.accessAllowed ? 'block' : 'none';\n",
              "\n",
              "        async function convertToInteractive(key) {\n",
              "          const element = document.querySelector('#df-e67cc10c-3a53-42f8-bfbb-6e09b8273bd8');\n",
              "          const dataTable =\n",
              "            await google.colab.kernel.invokeFunction('convertToInteractive',\n",
              "                                                     [key], {});\n",
              "          if (!dataTable) return;\n",
              "\n",
              "          const docLinkHtml = 'Like what you see? Visit the ' +\n",
              "            '<a target=\"_blank\" href=https://colab.research.google.com/notebooks/data_table.ipynb>data table notebook</a>'\n",
              "            + ' to learn more about interactive tables.';\n",
              "          element.innerHTML = '';\n",
              "          dataTable['output_type'] = 'display_data';\n",
              "          await google.colab.output.renderOutput(dataTable, element);\n",
              "          const docLink = document.createElement('div');\n",
              "          docLink.innerHTML = docLinkHtml;\n",
              "          element.appendChild(docLink);\n",
              "        }\n",
              "      </script>\n",
              "    </div>\n",
              "  </div>\n",
              "  "
            ],
            "text/plain": [
              "        no_speed_bump  acc_x_dashboard  acc_y_dashboard  acc_z_dashboard  \\\n",
              "0                 NaN        -0.029431        -0.019621         9.781015   \n",
              "1                 1.0        -0.039008         0.009110         9.819322   \n",
              "2                 1.0         0.010073         0.005518         9.777423   \n",
              "3                 1.0         0.020847         0.028263         9.785803   \n",
              "4                 1.0        -0.003095        -0.017227         9.800168   \n",
              "...               ...              ...              ...              ...   \n",
              "124679            1.0         0.427861        -0.261435         9.958185   \n",
              "124680            1.0         0.466169        -0.316502         9.867206   \n",
              "124681            1.0         0.332093        -0.555922         9.646939   \n",
              "124682            1.0         0.339276        -0.570287         9.824110   \n",
              "124683            1.0         0.439832        -0.201580        10.101838   \n",
              "\n",
              "        gyro_x_dashboard  gyro_y_dashboard  gyro_z_dashboard  temp_dashboard  \\\n",
              "0              -0.122070         -0.006327         -0.112208       32.166023   \n",
              "1              -0.030518          0.115743         -0.051173       32.453560   \n",
              "2              -0.122070          0.100485         -0.020655       32.405637   \n",
              "3               0.061035          0.207296         -0.112208       32.453560   \n",
              "4              -0.091553          0.146261         -0.112208       32.309791   \n",
              "...                  ...               ...               ...             ...   \n",
              "124679          0.030518         -0.006327          0.070898       32.070177   \n",
              "124680         -0.122070         -0.082621         -0.020655       32.094138   \n",
              "124681         -0.183105         -0.067362          0.101415       32.261868   \n",
              "124682         -0.122070         -0.006327         -0.173243       32.070177   \n",
              "124683          0.000000          0.176779         -0.234278       32.070177   \n",
              "\n",
              "           speed   road  \n",
              "0       0.010822  paved  \n",
              "1       0.010822  paved  \n",
              "2       0.010822  paved  \n",
              "3       0.010822  paved  \n",
              "4       0.010822  paved  \n",
              "...          ...    ...  \n",
              "124679  0.023570  paved  \n",
              "124680  0.023570  paved  \n",
              "124681  0.023570  paved  \n",
              "124682  0.023570  paved  \n",
              "124683  0.023570  paved  \n",
              "\n",
              "[124684 rows x 10 columns]"
            ]
          },
          "execution_count": 407,
          "metadata": {},
          "output_type": "execute_result"
        }
      ],
      "source": [
        "dataf"
      ]
    },
    {
      "cell_type": "code",
      "execution_count": null,
      "metadata": {
        "colab": {
          "base_uri": "https://localhost:8080/"
        },
        "id": "mW_NMpkUS2i4",
        "outputId": "3b928ca3-c868-4c15-cd27-6d233f6087e6"
      },
      "outputs": [
        {
          "data": {
            "text/plain": [
              "(124684, 10)"
            ]
          },
          "execution_count": 408,
          "metadata": {},
          "output_type": "execute_result"
        }
      ],
      "source": [
        "dataf.shape"
      ]
    },
    {
      "cell_type": "markdown",
      "metadata": {
        "id": "Nq8IYdDeYRyy"
      },
      "source": [
        "##Verificando se a dados faltantes e duplicadas"
      ]
    },
    {
      "cell_type": "code",
      "execution_count": null,
      "metadata": {
        "colab": {
          "base_uri": "https://localhost:8080/"
        },
        "id": "4GjSfsqMYYKA",
        "outputId": "a2e6fce2-51c1-472a-e6a9-ed96e435e3b6"
      },
      "outputs": [
        {
          "data": {
            "text/plain": [
              "no_speed_bump       1247\n",
              "acc_x_dashboard     1247\n",
              "acc_y_dashboard     1247\n",
              "acc_z_dashboard     1247\n",
              "gyro_x_dashboard    1247\n",
              "gyro_y_dashboard    1247\n",
              "gyro_z_dashboard    1247\n",
              "temp_dashboard      1247\n",
              "speed               1247\n",
              "road                   0\n",
              "dtype: int64"
            ]
          },
          "execution_count": 409,
          "metadata": {},
          "output_type": "execute_result"
        }
      ],
      "source": [
        "# Verificando se a dados nulos\n",
        "dataf.isnull().sum()"
      ]
    },
    {
      "cell_type": "code",
      "execution_count": null,
      "metadata": {
        "id": "n_e9SWGdYrO6"
      },
      "outputs": [],
      "source": [
        "dataf = dataf.replace(np.nan, 0)"
      ]
    },
    {
      "cell_type": "code",
      "execution_count": null,
      "metadata": {
        "colab": {
          "base_uri": "https://localhost:8080/"
        },
        "id": "roy3ZPy9YtQh",
        "outputId": "e77fb847-966d-4067-f1ed-eb2458ef9bf6"
      },
      "outputs": [
        {
          "data": {
            "text/plain": [
              "no_speed_bump       0\n",
              "acc_x_dashboard     0\n",
              "acc_y_dashboard     0\n",
              "acc_z_dashboard     0\n",
              "gyro_x_dashboard    0\n",
              "gyro_y_dashboard    0\n",
              "gyro_z_dashboard    0\n",
              "temp_dashboard      0\n",
              "speed               0\n",
              "road                0\n",
              "dtype: int64"
            ]
          },
          "execution_count": 411,
          "metadata": {},
          "output_type": "execute_result"
        }
      ],
      "source": [
        "# Verificando se a dados nulos\n",
        "dataf.isnull().sum()"
      ]
    },
    {
      "cell_type": "code",
      "execution_count": null,
      "metadata": {
        "colab": {
          "base_uri": "https://localhost:8080/"
        },
        "id": "jLdJTmSuYxBf",
        "outputId": "af263553-5107-47fd-fc39-e0c5ac8798f4"
      },
      "outputs": [
        {
          "name": "stdout",
          "output_type": "stream",
          "text": [
            "None\n"
          ]
        }
      ],
      "source": [
        "# Verificando se a Dados Repetidos\n",
        "duplicadas = dataf.drop_duplicates(inplace=True)\n",
        "print(duplicadas)"
      ]
    },
    {
      "cell_type": "markdown",
      "metadata": {
        "id": "sqOmehk0TFM-"
      },
      "source": [
        "###Calculando a média de temperatura do veiculo nos testes"
      ]
    },
    {
      "cell_type": "code",
      "execution_count": null,
      "metadata": {
        "colab": {
          "base_uri": "https://localhost:8080/"
        },
        "id": "6xN1CFNDTEv0",
        "outputId": "e9709909-14ef-4121-cb5a-822f17274a23"
      },
      "outputs": [
        {
          "name": "stdout",
          "output_type": "stream",
          "text": [
            "Soma de todos os valores das temperaturas: 4045384.207562711\n",
            "Quantidade de testes: 124471\n",
            "Média da temperatura: 32.5C°\n"
          ]
        }
      ],
      "source": [
        "# Somando todos os valores do Movement Speed\n",
        "soma = dataf['temp_dashboard'].sum()\n",
        "\n",
        "# Pegando a quantidade de Campeões no data\n",
        "tamanho = dataf['temp_dashboard'].shape[0]\n",
        "\n",
        "# Fazendo a Média\n",
        "media = soma / tamanho\n",
        "\n",
        "# Impressão\n",
        "print(f\"Soma de todos os valores das temperaturas: {soma}\")\n",
        "print(f\"Quantidade de testes: {tamanho}\")\n",
        "print(f\"Média da temperatura: {media:.1f}C°\")"
      ]
    },
    {
      "cell_type": "markdown",
      "metadata": {
        "id": "azGtJwMBW9B9"
      },
      "source": [
        "##Pegando apenas os dados onde o teste foi realizado em uma pista de terra"
      ]
    },
    {
      "cell_type": "code",
      "execution_count": null,
      "metadata": {
        "colab": {
          "base_uri": "https://localhost:8080/"
        },
        "id": "2GRlvL5zVA0K",
        "outputId": "9aa873e4-f132-4028-d681-7e7673fe4ac6"
      },
      "outputs": [
        {
          "data": {
            "text/plain": [
              "array(['paved', 'asphalt', 'unpaved', 'dirt', 'cobblestone'], dtype=object)"
            ]
          },
          "execution_count": 414,
          "metadata": {},
          "output_type": "execute_result"
        }
      ],
      "source": [
        "#Pegando os tipos de estradas testadas\n",
        "dataf['road'].unique()"
      ]
    },
    {
      "cell_type": "code",
      "execution_count": null,
      "metadata": {
        "colab": {
          "base_uri": "https://localhost:8080/",
          "height": 424
        },
        "id": "4EJVNi_KXq5e",
        "outputId": "778d8a96-69aa-4da8-b329-0300d5706e4d"
      },
      "outputs": [
        {
          "data": {
            "text/html": [
              "\n",
              "  <div id=\"df-04ca5a81-f192-4115-bd4a-39154673594a\">\n",
              "    <div class=\"colab-df-container\">\n",
              "      <div>\n",
              "<style scoped>\n",
              "    .dataframe tbody tr th:only-of-type {\n",
              "        vertical-align: middle;\n",
              "    }\n",
              "\n",
              "    .dataframe tbody tr th {\n",
              "        vertical-align: top;\n",
              "    }\n",
              "\n",
              "    .dataframe thead th {\n",
              "        text-align: right;\n",
              "    }\n",
              "</style>\n",
              "<table border=\"1\" class=\"dataframe\">\n",
              "  <thead>\n",
              "    <tr style=\"text-align: right;\">\n",
              "      <th></th>\n",
              "      <th>no_speed_bump</th>\n",
              "      <th>acc_x_dashboard</th>\n",
              "      <th>acc_y_dashboard</th>\n",
              "      <th>acc_z_dashboard</th>\n",
              "      <th>gyro_x_dashboard</th>\n",
              "      <th>gyro_y_dashboard</th>\n",
              "      <th>gyro_z_dashboard</th>\n",
              "      <th>temp_dashboard</th>\n",
              "      <th>speed</th>\n",
              "      <th>road</th>\n",
              "    </tr>\n",
              "  </thead>\n",
              "  <tbody>\n",
              "    <tr>\n",
              "      <th>7165</th>\n",
              "      <td>1.0</td>\n",
              "      <td>0.437438</td>\n",
              "      <td>-2.375515</td>\n",
              "      <td>11.000860</td>\n",
              "      <td>-2.288818</td>\n",
              "      <td>0.390402</td>\n",
              "      <td>15.238134</td>\n",
              "      <td>32.884865</td>\n",
              "      <td>2.929374</td>\n",
              "      <td>dirt</td>\n",
              "    </tr>\n",
              "    <tr>\n",
              "      <th>7227</th>\n",
              "      <td>1.0</td>\n",
              "      <td>-0.802758</td>\n",
              "      <td>0.552593</td>\n",
              "      <td>9.910301</td>\n",
              "      <td>-4.119873</td>\n",
              "      <td>6.829611</td>\n",
              "      <td>13.101903</td>\n",
              "      <td>32.645251</td>\n",
              "      <td>3.046452</td>\n",
              "      <td>dirt</td>\n",
              "    </tr>\n",
              "    <tr>\n",
              "      <th>7673</th>\n",
              "      <td>1.0</td>\n",
              "      <td>1.383148</td>\n",
              "      <td>0.375422</td>\n",
              "      <td>8.665317</td>\n",
              "      <td>-6.378174</td>\n",
              "      <td>0.024191</td>\n",
              "      <td>-0.508936</td>\n",
              "      <td>32.884865</td>\n",
              "      <td>5.080058</td>\n",
              "      <td>dirt</td>\n",
              "    </tr>\n",
              "    <tr>\n",
              "      <th>7790</th>\n",
              "      <td>1.0</td>\n",
              "      <td>1.615385</td>\n",
              "      <td>-2.890269</td>\n",
              "      <td>9.888754</td>\n",
              "      <td>3.204346</td>\n",
              "      <td>3.167501</td>\n",
              "      <td>0.070898</td>\n",
              "      <td>33.124480</td>\n",
              "      <td>5.409892</td>\n",
              "      <td>dirt</td>\n",
              "    </tr>\n",
              "    <tr>\n",
              "      <th>7802</th>\n",
              "      <td>1.0</td>\n",
              "      <td>1.416667</td>\n",
              "      <td>5.649849</td>\n",
              "      <td>12.168034</td>\n",
              "      <td>5.493164</td>\n",
              "      <td>6.341329</td>\n",
              "      <td>-0.295313</td>\n",
              "      <td>32.884865</td>\n",
              "      <td>4.757501</td>\n",
              "      <td>dirt</td>\n",
              "    </tr>\n",
              "    <tr>\n",
              "      <th>...</th>\n",
              "      <td>...</td>\n",
              "      <td>...</td>\n",
              "      <td>...</td>\n",
              "      <td>...</td>\n",
              "      <td>...</td>\n",
              "      <td>...</td>\n",
              "      <td>...</td>\n",
              "      <td>...</td>\n",
              "      <td>...</td>\n",
              "      <td>...</td>\n",
              "    </tr>\n",
              "    <tr>\n",
              "      <th>50595</th>\n",
              "      <td>1.0</td>\n",
              "      <td>-1.118793</td>\n",
              "      <td>-1.164049</td>\n",
              "      <td>11.004452</td>\n",
              "      <td>-3.448486</td>\n",
              "      <td>-3.943094</td>\n",
              "      <td>-5.086573</td>\n",
              "      <td>32.309791</td>\n",
              "      <td>5.206686</td>\n",
              "      <td>dirt</td>\n",
              "    </tr>\n",
              "    <tr>\n",
              "      <th>50598</th>\n",
              "      <td>1.0</td>\n",
              "      <td>2.403078</td>\n",
              "      <td>0.155156</td>\n",
              "      <td>6.910367</td>\n",
              "      <td>-3.631592</td>\n",
              "      <td>-5.713114</td>\n",
              "      <td>-4.995020</td>\n",
              "      <td>32.501483</td>\n",
              "      <td>5.206686</td>\n",
              "      <td>dirt</td>\n",
              "    </tr>\n",
              "    <tr>\n",
              "      <th>50763</th>\n",
              "      <td>1.0</td>\n",
              "      <td>1.527997</td>\n",
              "      <td>-1.093420</td>\n",
              "      <td>7.738761</td>\n",
              "      <td>-0.625610</td>\n",
              "      <td>-3.317484</td>\n",
              "      <td>-1.409205</td>\n",
              "      <td>32.237907</td>\n",
              "      <td>4.993689</td>\n",
              "      <td>dirt</td>\n",
              "    </tr>\n",
              "    <tr>\n",
              "      <th>50933</th>\n",
              "      <td>1.0</td>\n",
              "      <td>0.557148</td>\n",
              "      <td>1.431265</td>\n",
              "      <td>11.488080</td>\n",
              "      <td>-0.274658</td>\n",
              "      <td>6.799093</td>\n",
              "      <td>-0.264796</td>\n",
              "      <td>32.357714</td>\n",
              "      <td>5.190472</td>\n",
              "      <td>dirt</td>\n",
              "    </tr>\n",
              "    <tr>\n",
              "      <th>51356</th>\n",
              "      <td>1.0</td>\n",
              "      <td>0.102250</td>\n",
              "      <td>-1.338826</td>\n",
              "      <td>10.346046</td>\n",
              "      <td>0.274658</td>\n",
              "      <td>0.000000</td>\n",
              "      <td>-1.668604</td>\n",
              "      <td>32.309791</td>\n",
              "      <td>4.297802</td>\n",
              "      <td>dirt</td>\n",
              "    </tr>\n",
              "  </tbody>\n",
              "</table>\n",
              "<p>451 rows × 10 columns</p>\n",
              "</div>\n",
              "      <button class=\"colab-df-convert\" onclick=\"convertToInteractive('df-04ca5a81-f192-4115-bd4a-39154673594a')\"\n",
              "              title=\"Convert this dataframe to an interactive table.\"\n",
              "              style=\"display:none;\">\n",
              "        \n",
              "  <svg xmlns=\"http://www.w3.org/2000/svg\" height=\"24px\"viewBox=\"0 0 24 24\"\n",
              "       width=\"24px\">\n",
              "    <path d=\"M0 0h24v24H0V0z\" fill=\"none\"/>\n",
              "    <path d=\"M18.56 5.44l.94 2.06.94-2.06 2.06-.94-2.06-.94-.94-2.06-.94 2.06-2.06.94zm-11 1L8.5 8.5l.94-2.06 2.06-.94-2.06-.94L8.5 2.5l-.94 2.06-2.06.94zm10 10l.94 2.06.94-2.06 2.06-.94-2.06-.94-.94-2.06-.94 2.06-2.06.94z\"/><path d=\"M17.41 7.96l-1.37-1.37c-.4-.4-.92-.59-1.43-.59-.52 0-1.04.2-1.43.59L10.3 9.45l-7.72 7.72c-.78.78-.78 2.05 0 2.83L4 21.41c.39.39.9.59 1.41.59.51 0 1.02-.2 1.41-.59l7.78-7.78 2.81-2.81c.8-.78.8-2.07 0-2.86zM5.41 20L4 18.59l7.72-7.72 1.47 1.35L5.41 20z\"/>\n",
              "  </svg>\n",
              "      </button>\n",
              "      \n",
              "  <style>\n",
              "    .colab-df-container {\n",
              "      display:flex;\n",
              "      flex-wrap:wrap;\n",
              "      gap: 12px;\n",
              "    }\n",
              "\n",
              "    .colab-df-convert {\n",
              "      background-color: #E8F0FE;\n",
              "      border: none;\n",
              "      border-radius: 50%;\n",
              "      cursor: pointer;\n",
              "      display: none;\n",
              "      fill: #1967D2;\n",
              "      height: 32px;\n",
              "      padding: 0 0 0 0;\n",
              "      width: 32px;\n",
              "    }\n",
              "\n",
              "    .colab-df-convert:hover {\n",
              "      background-color: #E2EBFA;\n",
              "      box-shadow: 0px 1px 2px rgba(60, 64, 67, 0.3), 0px 1px 3px 1px rgba(60, 64, 67, 0.15);\n",
              "      fill: #174EA6;\n",
              "    }\n",
              "\n",
              "    [theme=dark] .colab-df-convert {\n",
              "      background-color: #3B4455;\n",
              "      fill: #D2E3FC;\n",
              "    }\n",
              "\n",
              "    [theme=dark] .colab-df-convert:hover {\n",
              "      background-color: #434B5C;\n",
              "      box-shadow: 0px 1px 3px 1px rgba(0, 0, 0, 0.15);\n",
              "      filter: drop-shadow(0px 1px 2px rgba(0, 0, 0, 0.3));\n",
              "      fill: #FFFFFF;\n",
              "    }\n",
              "  </style>\n",
              "\n",
              "      <script>\n",
              "        const buttonEl =\n",
              "          document.querySelector('#df-04ca5a81-f192-4115-bd4a-39154673594a button.colab-df-convert');\n",
              "        buttonEl.style.display =\n",
              "          google.colab.kernel.accessAllowed ? 'block' : 'none';\n",
              "\n",
              "        async function convertToInteractive(key) {\n",
              "          const element = document.querySelector('#df-04ca5a81-f192-4115-bd4a-39154673594a');\n",
              "          const dataTable =\n",
              "            await google.colab.kernel.invokeFunction('convertToInteractive',\n",
              "                                                     [key], {});\n",
              "          if (!dataTable) return;\n",
              "\n",
              "          const docLinkHtml = 'Like what you see? Visit the ' +\n",
              "            '<a target=\"_blank\" href=https://colab.research.google.com/notebooks/data_table.ipynb>data table notebook</a>'\n",
              "            + ' to learn more about interactive tables.';\n",
              "          element.innerHTML = '';\n",
              "          dataTable['output_type'] = 'display_data';\n",
              "          await google.colab.output.renderOutput(dataTable, element);\n",
              "          const docLink = document.createElement('div');\n",
              "          docLink.innerHTML = docLinkHtml;\n",
              "          element.appendChild(docLink);\n",
              "        }\n",
              "      </script>\n",
              "    </div>\n",
              "  </div>\n",
              "  "
            ],
            "text/plain": [
              "       no_speed_bump  acc_x_dashboard  acc_y_dashboard  acc_z_dashboard  \\\n",
              "7165             1.0         0.437438        -2.375515        11.000860   \n",
              "7227             1.0        -0.802758         0.552593         9.910301   \n",
              "7673             1.0         1.383148         0.375422         8.665317   \n",
              "7790             1.0         1.615385        -2.890269         9.888754   \n",
              "7802             1.0         1.416667         5.649849        12.168034   \n",
              "...              ...              ...              ...              ...   \n",
              "50595            1.0        -1.118793        -1.164049        11.004452   \n",
              "50598            1.0         2.403078         0.155156         6.910367   \n",
              "50763            1.0         1.527997        -1.093420         7.738761   \n",
              "50933            1.0         0.557148         1.431265        11.488080   \n",
              "51356            1.0         0.102250        -1.338826        10.346046   \n",
              "\n",
              "       gyro_x_dashboard  gyro_y_dashboard  gyro_z_dashboard  temp_dashboard  \\\n",
              "7165          -2.288818          0.390402         15.238134       32.884865   \n",
              "7227          -4.119873          6.829611         13.101903       32.645251   \n",
              "7673          -6.378174          0.024191         -0.508936       32.884865   \n",
              "7790           3.204346          3.167501          0.070898       33.124480   \n",
              "7802           5.493164          6.341329         -0.295313       32.884865   \n",
              "...                 ...               ...               ...             ...   \n",
              "50595         -3.448486         -3.943094         -5.086573       32.309791   \n",
              "50598         -3.631592         -5.713114         -4.995020       32.501483   \n",
              "50763         -0.625610         -3.317484         -1.409205       32.237907   \n",
              "50933         -0.274658          6.799093         -0.264796       32.357714   \n",
              "51356          0.274658          0.000000         -1.668604       32.309791   \n",
              "\n",
              "          speed  road  \n",
              "7165   2.929374  dirt  \n",
              "7227   3.046452  dirt  \n",
              "7673   5.080058  dirt  \n",
              "7790   5.409892  dirt  \n",
              "7802   4.757501  dirt  \n",
              "...         ...   ...  \n",
              "50595  5.206686  dirt  \n",
              "50598  5.206686  dirt  \n",
              "50763  4.993689  dirt  \n",
              "50933  5.190472  dirt  \n",
              "51356  4.297802  dirt  \n",
              "\n",
              "[451 rows x 10 columns]"
            ]
          },
          "execution_count": 415,
          "metadata": {},
          "output_type": "execute_result"
        }
      ],
      "source": [
        "dataf[dataf['road'] == 'dirt']"
      ]
    },
    {
      "cell_type": "markdown",
      "metadata": {
        "id": "71UoxHAxZVQb"
      },
      "source": [
        "##Criando Gráficos"
      ]
    },
    {
      "cell_type": "markdown",
      "metadata": {
        "id": "ujrk-SaD1yRF"
      },
      "source": [
        "###Gráfico sobre os tipos de Estradas utilizadas nos testes (Gráfico de Pizza e Histograma)"
      ]
    },
    {
      "cell_type": "markdown",
      "metadata": {
        "id": "pssCMtRj2KBw"
      },
      "source": [
        "####Gráfico de Pizza"
      ]
    },
    {
      "cell_type": "code",
      "execution_count": null,
      "metadata": {
        "id": "hPRXx5YcZgWO"
      },
      "outputs": [],
      "source": [
        "#Separando os dados\n",
        "paved = dataf[dataf['road'] == 'paved'].shape[0]\n",
        "asphalt = dataf[dataf['road'] == 'asphalt'].shape[0]\n",
        "unpaved = dataf[dataf['road'] == 'unpaved'].shape[0]\n",
        "dirt = dataf[dataf['road'] == 'dirt'].shape[0]\n",
        "cobblestone = dataf[dataf['road'] == 'cobblestone'].shape[0]\n"
      ]
    },
    {
      "cell_type": "code",
      "execution_count": null,
      "metadata": {
        "colab": {
          "base_uri": "https://localhost:8080/",
          "height": 704
        },
        "id": "E1C8zI2lZdg_",
        "outputId": "6ef7f8fe-471b-4d9c-88d8-c8d7dc483a58"
      },
      "outputs": [
        {
          "data": {
            "image/png": "[encoded data removed]",
            "text/plain": [
              "<Figure size 1296x864 with 1 Axes>"
            ]
          },
          "metadata": {},
          "output_type": "display_data"
        }
      ],
      "source": [
        "# GRÁFICO DE PIZZA\n",
        "labels = 'Pavimentada', 'Asfaltada','Estrada de Pedra', 'Não Pavimentada', 'Estrada de Terra'\n",
        "tamanho = [paved, asphalt, cobblestone, unpaved, dirt]\n",
        "\n",
        "#Criando o Gráfico\n",
        "fig, ax = plt.subplots(figsize = (18, 12))\n",
        "ax.pie(tamanho, labels=labels, autopct='%1.1f%%', startangle=-30)\n",
        "\n",
        "ax.set_title(\"Diferentes tipos de estradas testadas\", fontsize=20, fontstyle=\"italic\")\n",
        "\n",
        "plt.show()"
      ]
    },
    {
      "cell_type": "markdown",
      "metadata": {
        "id": "5RtinRr-2PE9"
      },
      "source": [
        "####Gráfico Histograma"
      ]
    },
    {
      "cell_type": "code",
      "execution_count": null,
      "metadata": {
        "colab": {
          "base_uri": "https://localhost:8080/",
          "height": 414
        },
        "id": "a4hlW47RcTF9",
        "outputId": "b9e0977f-e6ed-460c-870e-54db9f86d0f2"
      },
      "outputs": [
        {
          "data": {
            "image/png": "[encoded data removed]",
            "text/plain": [
              "<Figure size 720x432 with 1 Axes>"
            ]
          },
          "metadata": {
            "needs_background": "light"
          },
          "output_type": "display_data"
        }
      ],
      "source": [
        "#GRÁFICO DE HISTOGRAMA\n",
        "#Criando o Gráfico\n",
        "fig, ax = plt.subplots(figsize =(10,6))\n",
        "ax.hist(dataf['road'])\n",
        "\n",
        "# rótulos dos eixos x e y\n",
        "ax.set_xlabel(\"Tipo da estrada\", fontsize=16)\n",
        "ax.set_ylabel(\"Quantidade de testes\", fontsize=16)\n",
        "\n",
        "# título\n",
        "ax.set_title(\"Diferentes tipos de estradas testadas\", fontsize=20, fontstyle=\"italic\")\n",
        "\n",
        "plt.show()"
      ]
    },
    {
      "cell_type": "markdown",
      "metadata": {
        "id": "fSdzNbyP2T3c"
      },
      "source": [
        "###Gráfico de Média de Temperatura nos testes (Boxplot)"
      ]
    },
    {
      "cell_type": "code",
      "execution_count": null,
      "metadata": {
        "colab": {
          "base_uri": "https://localhost:8080/",
          "height": 431
        },
        "id": "kRjXQ1j_1N9d",
        "outputId": "490247e7-7d51-42b9-af58-47b9621ebf71"
      },
      "outputs": [
        {
          "data": {
            "text/plain": [
              "Text(0.5, 0, 'Teste')"
            ]
          },
          "execution_count": 419,
          "metadata": {},
          "output_type": "execute_result"
        },
        {
          "data": {
            "image/png": "[encoded data removed]",
            "text/plain": [
              "<Figure size 720x432 with 1 Axes>"
            ]
          },
          "metadata": {
            "needs_background": "light"
          },
          "output_type": "display_data"
        }
      ],
      "source": [
        "fig, axes = plt.subplots(figsize=(10,6))\n",
        "plt.subplots_adjust(hspace=0.3, wspace=0.2)\n",
        "axes.set_title(\"Temperatura\", fontsize=20, fontstyle=\"italic\")\n",
        "axes.boxplot(dataf['temp_dashboard'])\n",
        "axes.set_ylabel(\"Temperatura\", fontsize=16)\n",
        "axes.set_xlabel(\"Teste\", fontsize=16)"
      ]
    },
    {
      "cell_type": "markdown",
      "metadata": {
        "id": "is-iO4ku2bgG"
      },
      "source": [
        "###Média das Acelerações nos testes (Boxplot)"
      ]
    },
    {
      "cell_type": "code",
      "execution_count": null,
      "metadata": {
        "id": "73FF72G_tTWI"
      },
      "outputs": [],
      "source": [
        "#Separando os valores de aceleração\n",
        "accx = dataf['acc_x_dashboard']\n",
        "accy = dataf['acc_y_dashboard']\n",
        "accz = dataf['acc_z_dashboard']"
      ]
    },
    {
      "cell_type": "code",
      "execution_count": null,
      "metadata": {
        "colab": {
          "base_uri": "https://localhost:8080/",
          "height": 1000
        },
        "id": "R7DuFduptsRt",
        "outputId": "84800aa0-ee82-4d82-ad49-31d6e5fd36ac"
      },
      "outputs": [
        {
          "data": {
            "image/png": "[encoded data removed]",
            "text/plain": [
              "<Figure size 720x432 with 1 Axes>"
            ]
          },
          "metadata": {
            "needs_background": "light"
          },
          "output_type": "display_data"
        },
        {
          "data": {
            "image/png": "[encoded data removed]",
            "text/plain": [
              "<Figure size 720x432 with 1 Axes>"
            ]
          },
          "metadata": {
            "needs_background": "light"
          },
          "output_type": "display_data"
        },
        {
          "data": {
            "image/png": "[encoded data removed]",
            "text/plain": [
              "<Figure size 720x432 with 1 Axes>"
            ]
          },
          "metadata": {
            "needs_background": "light"
          },
          "output_type": "display_data"
        }
      ],
      "source": [
        "#Criando a lista com os valores e lista com os nomes\n",
        "valores = [accx, accy, accz]\n",
        "nomes = ['Aceleração X','Aceleração Y', 'Aceleração Z']\n",
        "\n",
        "a = 0\n",
        "for i in range(3):\n",
        "  fig, axes = plt.subplots(figsize=(10,6))\n",
        "  plt.subplots_adjust(hspace=0.3, wspace=0.2)\n",
        "  axes.set_title(f\"{nomes[a]}\", fontsize=20, fontstyle=\"italic\")\n",
        "  axes.boxplot(valores[a])\n",
        "  axes.set_ylabel(\"Média de Aceleração m/s²\", fontsize=16)\n",
        "  axes.set_xlabel(\"Testes\", fontsize=16)\n",
        "  a += 1\n",
        "\n",
        "# Ajustando espaço entre os BoxPlots\n",
        "plt.subplots_adjust(left=0.1,\n",
        "                    bottom=0.1, \n",
        "                    right=0.9, \n",
        "                    top=0.9, \n",
        "                    wspace=0.7, \n",
        "                    hspace=0.7)"
      ]
    },
    {
      "cell_type": "markdown",
      "metadata": {
        "id": "T4bzro-M2tqT"
      },
      "source": [
        "###Média das Rotações nos testes (Boxplot)"
      ]
    },
    {
      "cell_type": "code",
      "execution_count": null,
      "metadata": {
        "id": "DGYAe8q903eY"
      },
      "outputs": [],
      "source": [
        "#Separando os valores da rotação\n",
        "gyrox = dataf['gyro_x_dashboard']\n",
        "gyroy = dataf['gyro_y_dashboard']\n",
        "gyroz = dataf['gyro_z_dashboard']"
      ]
    },
    {
      "cell_type": "code",
      "execution_count": null,
      "metadata": {
        "colab": {
          "base_uri": "https://localhost:8080/",
          "height": 1000
        },
        "id": "LIAQphO-0z2v",
        "outputId": "7d494d24-0947-48db-f1fa-5d8d13fd39dd"
      },
      "outputs": [
        {
          "data": {
            "image/png": "[encoded data removed]",
            "text/plain": [
              "<Figure size 720x432 with 1 Axes>"
            ]
          },
          "metadata": {
            "needs_background": "light"
          },
          "output_type": "display_data"
        },
        {
          "data": {
            "image/png": "[encoded data removed]",
            "text/plain": [
              "<Figure size 720x432 with 1 Axes>"
            ]
          },
          "metadata": {
            "needs_background": "light"
          },
          "output_type": "display_data"
        },
        {
          "data": {
            "image/png": "[encoded data removed]",
            "text/plain": [
              "<Figure size 720x432 with 1 Axes>"
            ]
          },
          "metadata": {
            "needs_background": "light"
          },
          "output_type": "display_data"
        }
      ],
      "source": [
        "#Criando a lista com os valores e lista com os nomes\n",
        "valores = [gyrox, gyroy, gyroz]\n",
        "nomes = ['Rotação X','Rotação Y', 'Rotação Z']\n",
        "\n",
        "a = 0\n",
        "for i in range(3):\n",
        "  fig, axes = plt.subplots(figsize=(10,6))\n",
        "  plt.subplots_adjust(hspace=0.3, wspace=0.2)\n",
        "  axes.set_title(f\"{nomes[a]}\", fontsize=20, fontstyle=\"italic\")\n",
        "  axes.boxplot(valores[a])\n",
        "  axes.set_ylabel(\"Média de Rotação deg/s\", fontsize=16)\n",
        "  axes.set_xlabel(\"Testes\", fontsize=16)\n",
        "  a += 1\n",
        "\n",
        "# Ajustando espaço entre os BoxPlots\n",
        "plt.subplots_adjust(left=0.1,\n",
        "                    bottom=0.1, \n",
        "                    right=0.9, \n",
        "                    top=0.9, \n",
        "                    wspace=0.7, \n",
        "                    hspace=0.7)"
      ]
    },
    {
      "cell_type": "markdown",
      "metadata": {
        "id": "tnmEz7nh-ah-"
      },
      "source": [
        "##Feature engineering"
      ]
    },
    {
      "cell_type": "code",
      "execution_count": null,
      "metadata": {
        "colab": {
          "base_uri": "https://localhost:8080/",
          "height": 424
        },
        "id": "dVNFZ71d-pO-",
        "outputId": "6bed3edc-6d50-4df4-db20-7107bc5d9120"
      },
      "outputs": [
        {
          "data": {
            "text/html": [
              "\n",
              "  <div id=\"df-349c90d9-68d5-4151-8a0a-9a32598bb2a2\">\n",
              "    <div class=\"colab-df-container\">\n",
              "      <div>\n",
              "<style scoped>\n",
              "    .dataframe tbody tr th:only-of-type {\n",
              "        vertical-align: middle;\n",
              "    }\n",
              "\n",
              "    .dataframe tbody tr th {\n",
              "        vertical-align: top;\n",
              "    }\n",
              "\n",
              "    .dataframe thead th {\n",
              "        text-align: right;\n",
              "    }\n",
              "</style>\n",
              "<table border=\"1\" class=\"dataframe\">\n",
              "  <thead>\n",
              "    <tr style=\"text-align: right;\">\n",
              "      <th></th>\n",
              "      <th>no_speed_bump</th>\n",
              "      <th>acc_x_dashboard</th>\n",
              "      <th>acc_y_dashboard</th>\n",
              "      <th>acc_z_dashboard</th>\n",
              "      <th>gyro_x_dashboard</th>\n",
              "      <th>gyro_y_dashboard</th>\n",
              "      <th>gyro_z_dashboard</th>\n",
              "      <th>temp_dashboard</th>\n",
              "      <th>speed</th>\n",
              "      <th>road</th>\n",
              "    </tr>\n",
              "  </thead>\n",
              "  <tbody>\n",
              "    <tr>\n",
              "      <th>0</th>\n",
              "      <td>0.0</td>\n",
              "      <td>-0.029431</td>\n",
              "      <td>-0.019621</td>\n",
              "      <td>9.781015</td>\n",
              "      <td>-0.122070</td>\n",
              "      <td>-0.006327</td>\n",
              "      <td>-0.112208</td>\n",
              "      <td>32.166023</td>\n",
              "      <td>0.010822</td>\n",
              "      <td>paved</td>\n",
              "    </tr>\n",
              "    <tr>\n",
              "      <th>1</th>\n",
              "      <td>1.0</td>\n",
              "      <td>-0.039008</td>\n",
              "      <td>0.009110</td>\n",
              "      <td>9.819322</td>\n",
              "      <td>-0.030518</td>\n",
              "      <td>0.115743</td>\n",
              "      <td>-0.051173</td>\n",
              "      <td>32.453560</td>\n",
              "      <td>0.010822</td>\n",
              "      <td>paved</td>\n",
              "    </tr>\n",
              "    <tr>\n",
              "      <th>2</th>\n",
              "      <td>1.0</td>\n",
              "      <td>0.010073</td>\n",
              "      <td>0.005518</td>\n",
              "      <td>9.777423</td>\n",
              "      <td>-0.122070</td>\n",
              "      <td>0.100485</td>\n",
              "      <td>-0.020655</td>\n",
              "      <td>32.405637</td>\n",
              "      <td>0.010822</td>\n",
              "      <td>paved</td>\n",
              "    </tr>\n",
              "    <tr>\n",
              "      <th>3</th>\n",
              "      <td>1.0</td>\n",
              "      <td>0.020847</td>\n",
              "      <td>0.028263</td>\n",
              "      <td>9.785803</td>\n",
              "      <td>0.061035</td>\n",
              "      <td>0.207296</td>\n",
              "      <td>-0.112208</td>\n",
              "      <td>32.453560</td>\n",
              "      <td>0.010822</td>\n",
              "      <td>paved</td>\n",
              "    </tr>\n",
              "    <tr>\n",
              "      <th>4</th>\n",
              "      <td>1.0</td>\n",
              "      <td>-0.003095</td>\n",
              "      <td>-0.017227</td>\n",
              "      <td>9.800168</td>\n",
              "      <td>-0.091553</td>\n",
              "      <td>0.146261</td>\n",
              "      <td>-0.112208</td>\n",
              "      <td>32.309791</td>\n",
              "      <td>0.010822</td>\n",
              "      <td>paved</td>\n",
              "    </tr>\n",
              "    <tr>\n",
              "      <th>...</th>\n",
              "      <td>...</td>\n",
              "      <td>...</td>\n",
              "      <td>...</td>\n",
              "      <td>...</td>\n",
              "      <td>...</td>\n",
              "      <td>...</td>\n",
              "      <td>...</td>\n",
              "      <td>...</td>\n",
              "      <td>...</td>\n",
              "      <td>...</td>\n",
              "    </tr>\n",
              "    <tr>\n",
              "      <th>124679</th>\n",
              "      <td>1.0</td>\n",
              "      <td>0.427861</td>\n",
              "      <td>-0.261435</td>\n",
              "      <td>9.958185</td>\n",
              "      <td>0.030518</td>\n",
              "      <td>-0.006327</td>\n",
              "      <td>0.070898</td>\n",
              "      <td>32.070177</td>\n",
              "      <td>0.023570</td>\n",
              "      <td>paved</td>\n",
              "    </tr>\n",
              "    <tr>\n",
              "      <th>124680</th>\n",
              "      <td>1.0</td>\n",
              "      <td>0.466169</td>\n",
              "      <td>-0.316502</td>\n",
              "      <td>9.867206</td>\n",
              "      <td>-0.122070</td>\n",
              "      <td>-0.082621</td>\n",
              "      <td>-0.020655</td>\n",
              "      <td>32.094138</td>\n",
              "      <td>0.023570</td>\n",
              "      <td>paved</td>\n",
              "    </tr>\n",
              "    <tr>\n",
              "      <th>124681</th>\n",
              "      <td>1.0</td>\n",
              "      <td>0.332093</td>\n",
              "      <td>-0.555922</td>\n",
              "      <td>9.646939</td>\n",
              "      <td>-0.183105</td>\n",
              "      <td>-0.067362</td>\n",
              "      <td>0.101415</td>\n",
              "      <td>32.261868</td>\n",
              "      <td>0.023570</td>\n",
              "      <td>paved</td>\n",
              "    </tr>\n",
              "    <tr>\n",
              "      <th>124682</th>\n",
              "      <td>1.0</td>\n",
              "      <td>0.339276</td>\n",
              "      <td>-0.570287</td>\n",
              "      <td>9.824110</td>\n",
              "      <td>-0.122070</td>\n",
              "      <td>-0.006327</td>\n",
              "      <td>-0.173243</td>\n",
              "      <td>32.070177</td>\n",
              "      <td>0.023570</td>\n",
              "      <td>paved</td>\n",
              "    </tr>\n",
              "    <tr>\n",
              "      <th>124683</th>\n",
              "      <td>1.0</td>\n",
              "      <td>0.439832</td>\n",
              "      <td>-0.201580</td>\n",
              "      <td>10.101838</td>\n",
              "      <td>0.000000</td>\n",
              "      <td>0.176779</td>\n",
              "      <td>-0.234278</td>\n",
              "      <td>32.070177</td>\n",
              "      <td>0.023570</td>\n",
              "      <td>paved</td>\n",
              "    </tr>\n",
              "  </tbody>\n",
              "</table>\n",
              "<p>124471 rows × 10 columns</p>\n",
              "</div>\n",
              "      <button class=\"colab-df-convert\" onclick=\"convertToInteractive('df-349c90d9-68d5-4151-8a0a-9a32598bb2a2')\"\n",
              "              title=\"Convert this dataframe to an interactive table.\"\n",
              "              style=\"display:none;\">\n",
              "        \n",
              "  <svg xmlns=\"http://www.w3.org/2000/svg\" height=\"24px\"viewBox=\"0 0 24 24\"\n",
              "       width=\"24px\">\n",
              "    <path d=\"M0 0h24v24H0V0z\" fill=\"none\"/>\n",
              "    <path d=\"M18.56 5.44l.94 2.06.94-2.06 2.06-.94-2.06-.94-.94-2.06-.94 2.06-2.06.94zm-11 1L8.5 8.5l.94-2.06 2.06-.94-2.06-.94L8.5 2.5l-.94 2.06-2.06.94zm10 10l.94 2.06.94-2.06 2.06-.94-2.06-.94-.94-2.06-.94 2.06-2.06.94z\"/><path d=\"M17.41 7.96l-1.37-1.37c-.4-.4-.92-.59-1.43-.59-.52 0-1.04.2-1.43.59L10.3 9.45l-7.72 7.72c-.78.78-.78 2.05 0 2.83L4 21.41c.39.39.9.59 1.41.59.51 0 1.02-.2 1.41-.59l7.78-7.78 2.81-2.81c.8-.78.8-2.07 0-2.86zM5.41 20L4 18.59l7.72-7.72 1.47 1.35L5.41 20z\"/>\n",
              "  </svg>\n",
              "      </button>\n",
              "      \n",
              "  <style>\n",
              "    .colab-df-container {\n",
              "      display:flex;\n",
              "      flex-wrap:wrap;\n",
              "      gap: 12px;\n",
              "    }\n",
              "\n",
              "    .colab-df-convert {\n",
              "      background-color: #E8F0FE;\n",
              "      border: none;\n",
              "      border-radius: 50%;\n",
              "      cursor: pointer;\n",
              "      display: none;\n",
              "      fill: #1967D2;\n",
              "      height: 32px;\n",
              "      padding: 0 0 0 0;\n",
              "      width: 32px;\n",
              "    }\n",
              "\n",
              "    .colab-df-convert:hover {\n",
              "      background-color: #E2EBFA;\n",
              "      box-shadow: 0px 1px 2px rgba(60, 64, 67, 0.3), 0px 1px 3px 1px rgba(60, 64, 67, 0.15);\n",
              "      fill: #174EA6;\n",
              "    }\n",
              "\n",
              "    [theme=dark] .colab-df-convert {\n",
              "      background-color: #3B4455;\n",
              "      fill: #D2E3FC;\n",
              "    }\n",
              "\n",
              "    [theme=dark] .colab-df-convert:hover {\n",
              "      background-color: #434B5C;\n",
              "      box-shadow: 0px 1px 3px 1px rgba(0, 0, 0, 0.15);\n",
              "      filter: drop-shadow(0px 1px 2px rgba(0, 0, 0, 0.3));\n",
              "      fill: #FFFFFF;\n",
              "    }\n",
              "  </style>\n",
              "\n",
              "      <script>\n",
              "        const buttonEl =\n",
              "          document.querySelector('#df-349c90d9-68d5-4151-8a0a-9a32598bb2a2 button.colab-df-convert');\n",
              "        buttonEl.style.display =\n",
              "          google.colab.kernel.accessAllowed ? 'block' : 'none';\n",
              "\n",
              "        async function convertToInteractive(key) {\n",
              "          const element = document.querySelector('#df-349c90d9-68d5-4151-8a0a-9a32598bb2a2');\n",
              "          const dataTable =\n",
              "            await google.colab.kernel.invokeFunction('convertToInteractive',\n",
              "                                                     [key], {});\n",
              "          if (!dataTable) return;\n",
              "\n",
              "          const docLinkHtml = 'Like what you see? Visit the ' +\n",
              "            '<a target=\"_blank\" href=https://colab.research.google.com/notebooks/data_table.ipynb>data table notebook</a>'\n",
              "            + ' to learn more about interactive tables.';\n",
              "          element.innerHTML = '';\n",
              "          dataTable['output_type'] = 'display_data';\n",
              "          await google.colab.output.renderOutput(dataTable, element);\n",
              "          const docLink = document.createElement('div');\n",
              "          docLink.innerHTML = docLinkHtml;\n",
              "          element.appendChild(docLink);\n",
              "        }\n",
              "      </script>\n",
              "    </div>\n",
              "  </div>\n",
              "  "
            ],
            "text/plain": [
              "        no_speed_bump  acc_x_dashboard  acc_y_dashboard  acc_z_dashboard  \\\n",
              "0                 0.0        -0.029431        -0.019621         9.781015   \n",
              "1                 1.0        -0.039008         0.009110         9.819322   \n",
              "2                 1.0         0.010073         0.005518         9.777423   \n",
              "3                 1.0         0.020847         0.028263         9.785803   \n",
              "4                 1.0        -0.003095        -0.017227         9.800168   \n",
              "...               ...              ...              ...              ...   \n",
              "124679            1.0         0.427861        -0.261435         9.958185   \n",
              "124680            1.0         0.466169        -0.316502         9.867206   \n",
              "124681            1.0         0.332093        -0.555922         9.646939   \n",
              "124682            1.0         0.339276        -0.570287         9.824110   \n",
              "124683            1.0         0.439832        -0.201580        10.101838   \n",
              "\n",
              "        gyro_x_dashboard  gyro_y_dashboard  gyro_z_dashboard  temp_dashboard  \\\n",
              "0              -0.122070         -0.006327         -0.112208       32.166023   \n",
              "1              -0.030518          0.115743         -0.051173       32.453560   \n",
              "2              -0.122070          0.100485         -0.020655       32.405637   \n",
              "3               0.061035          0.207296         -0.112208       32.453560   \n",
              "4              -0.091553          0.146261         -0.112208       32.309791   \n",
              "...                  ...               ...               ...             ...   \n",
              "124679          0.030518         -0.006327          0.070898       32.070177   \n",
              "124680         -0.122070         -0.082621         -0.020655       32.094138   \n",
              "124681         -0.183105         -0.067362          0.101415       32.261868   \n",
              "124682         -0.122070         -0.006327         -0.173243       32.070177   \n",
              "124683          0.000000          0.176779         -0.234278       32.070177   \n",
              "\n",
              "           speed   road  \n",
              "0       0.010822  paved  \n",
              "1       0.010822  paved  \n",
              "2       0.010822  paved  \n",
              "3       0.010822  paved  \n",
              "4       0.010822  paved  \n",
              "...          ...    ...  \n",
              "124679  0.023570  paved  \n",
              "124680  0.023570  paved  \n",
              "124681  0.023570  paved  \n",
              "124682  0.023570  paved  \n",
              "124683  0.023570  paved  \n",
              "\n",
              "[124471 rows x 10 columns]"
            ]
          },
          "execution_count": 424,
          "metadata": {},
          "output_type": "execute_result"
        }
      ],
      "source": [
        "dataf"
      ]
    },
    {
      "cell_type": "code",
      "execution_count": null,
      "metadata": {
        "id": "Yb5uhLdu_A3X"
      },
      "outputs": [],
      "source": [
        "le = LabelEncoder()\n",
        "dataf['road'] = le.fit_transform(dataf['road'])"
      ]
    },
    {
      "cell_type": "code",
      "execution_count": null,
      "metadata": {
        "id": "jCNmVzH1_c2Z"
      },
      "outputs": [],
      "source": [
        "# Separando os Dados\n",
        "x = dataf.drop('speed', axis=1)\n",
        "y = dataf['speed']\n",
        "\n",
        "X_train, X_test, y_train, y_test = train_test_split(x,\n",
        "                                                    y,\n",
        "                                                    test_size=0.3,\n",
        "                                                    random_state=101)"
      ]
    },
    {
      "cell_type": "code",
      "execution_count": null,
      "metadata": {
        "colab": {
          "base_uri": "https://localhost:8080/"
        },
        "id": "JB574bw3_8Ax",
        "outputId": "6198cfeb-7900-4a61-9382-9e664045caf8"
      },
      "outputs": [
        {
          "name": "stdout",
          "output_type": "stream",
          "text": [
            "N dados =  124471\n",
            "X_train =  87129\n",
            "X_test =  37342\n",
            "y_train =  87129\n",
            "y_test =  37342\n"
          ]
        }
      ],
      "source": [
        "# Testando\n",
        "print(\"N dados = \", len(x))\n",
        "print(\"X_train = \", len(X_train))\n",
        "print(\"X_test = \", len(X_test))\n",
        "print(\"y_train = \", len(y_train))\n",
        "print(\"y_test = \", len(y_test))"
      ]
    },
    {
      "cell_type": "code",
      "execution_count": null,
      "metadata": {
        "id": "ca5puFnRAK_N"
      },
      "outputs": [],
      "source": [
        "# Normalizando os Dados\n",
        "norm = MinMaxScaler()\n",
        "X_train_norm = norm.fit_transform(X_train)\n",
        "X_test_norm = norm.transform(X_test)\n",
        "\n",
        "# Padronizando os Dados\n",
        "scaler = StandardScaler()\n",
        "X_train_scaled = scaler.fit_transform(X_train)\n",
        "X_test_scaled = scaler.transform(X_test)"
      ]
    },
    {
      "cell_type": "markdown",
      "metadata": {
        "id": "2U7VdZ9qe47f"
      },
      "source": [
        "###Escolhi utilizar modelos de regressão, pois vamos prever a velocidade, sendo um dado com uma margem de mudança não muito grande, o melhor modelo a ser usado é o de Regressão"
      ]
    },
    {
      "cell_type": "markdown",
      "metadata": {
        "id": "ORj8dMpY9R-f"
      },
      "source": [
        "##Regressão Linear"
      ]
    },
    {
      "cell_type": "markdown",
      "metadata": {
        "id": "SxVe-_6EZeg9"
      },
      "source": [
        "####X train - Sem Normalização"
      ]
    },
    {
      "cell_type": "code",
      "execution_count": null,
      "metadata": {
        "colab": {
          "base_uri": "https://localhost:8080/"
        },
        "id": "3WIxg4AD9YU6",
        "outputId": "216c1663-1ea1-4584-c603-414129191c65"
      },
      "outputs": [
        {
          "name": "stdout",
          "output_type": "stream",
          "text": [
            "MSE = 30.363703519897257\n",
            "MAE = 4.238761972340171\n",
            "R² = 24.07%\n"
          ]
        }
      ],
      "source": [
        "# Treinando o modelo\n",
        "reta = LinearRegression()\n",
        "reta.fit(X_train, y_train)\n",
        "y_pred = reta.predict(X_test)\n",
        "\n",
        "# Avaliando o modelo\n",
        "mse = mean_squared_error(y_test, y_pred)\n",
        "mae = mean_absolute_error(y_test, y_pred)\n",
        "r2 = r2_score(y_test, y_pred)\n",
        "\n",
        "print(f\"MSE = {mse}\")\n",
        "print(f\"MAE = {mae}\")\n",
        "print(f\"R² = {r2:.2%}\")"
      ]
    },
    {
      "cell_type": "markdown",
      "metadata": {
        "id": "YKXXL44X9xAr"
      },
      "source": [
        "####X train - Normalizado"
      ]
    },
    {
      "cell_type": "code",
      "execution_count": null,
      "metadata": {
        "colab": {
          "base_uri": "https://localhost:8080/"
        },
        "id": "MbELeAaw-P9i",
        "outputId": "761279a7-9c60-4e1b-adb3-02cb1ed772bc"
      },
      "outputs": [
        {
          "name": "stdout",
          "output_type": "stream",
          "text": [
            "MSE = 30.363703519897264\n",
            "MAE = 4.238761972340171\n",
            "R² = 24.07%\n"
          ]
        }
      ],
      "source": [
        "# Treinar o modelo\n",
        "reta = LinearRegression()\n",
        "reta.fit(X_train_norm, y_train)\n",
        "y_pred = reta.predict(X_test_norm)\n",
        "\n",
        "# Avaliar o modelo\n",
        "mse = mean_squared_error(y_test, y_pred)\n",
        "mae = mean_absolute_error(y_test, y_pred)\n",
        "r2 = r2_score(y_test, y_pred)\n",
        "\n",
        "print(f\"MSE = {mse}\")\n",
        "print(f\"MAE = {mae}\")\n",
        "print(f\"R² = {r2:.2%}\")"
      ]
    },
    {
      "cell_type": "markdown",
      "metadata": {
        "id": "QzWB_sF9-rZ1"
      },
      "source": [
        "####X train - Padronizado"
      ]
    },
    {
      "cell_type": "code",
      "execution_count": null,
      "metadata": {
        "colab": {
          "base_uri": "https://localhost:8080/"
        },
        "id": "79bbaFKR-v9M",
        "outputId": "226934c2-40aa-4eec-f944-2e551f250a6d"
      },
      "outputs": [
        {
          "name": "stdout",
          "output_type": "stream",
          "text": [
            "MSE = 30.363703519897257\n",
            "MAE = 4.23876197234017\n",
            "R² = 24.07%\n"
          ]
        }
      ],
      "source": [
        "# Treinar o modelo\n",
        "reta = LinearRegression()\n",
        "reta.fit(X_train_scaled, y_train)\n",
        "y_pred = reta.predict(X_test_scaled)\n",
        "\n",
        "# Avaliar o modelo\n",
        "mse = mean_squared_error(y_test, y_pred)\n",
        "mae = mean_absolute_error(y_test, y_pred)\n",
        "r2 = r2_score(y_test, y_pred)\n",
        "\n",
        "print(f\"MSE = {mse}\")\n",
        "print(f\"MAE = {mae}\")\n",
        "print(f\"R² = {r2:.2%}\")"
      ]
    },
    {
      "cell_type": "markdown",
      "metadata": {
        "id": "3bjjKl8rfO7P"
      },
      "source": [
        "##Utilizadno a Regressão Linear percebemos que não teve um bom resultado, o Score obtido em todos os tipos de dados utilizados ficou na média dos 20%, sendo uma pontuação bem baixa, e tendo uma taxa de 30% de erro no modelo"
      ]
    },
    {
      "cell_type": "markdown",
      "metadata": {
        "id": "wT3hNvqPAMp6"
      },
      "source": [
        "##Bagging Regressor"
      ]
    },
    {
      "cell_type": "code",
      "execution_count": null,
      "metadata": {
        "id": "v8KguagOAajN"
      },
      "outputs": [],
      "source": [
        "from sklearn.ensemble import BaggingRegressor"
      ]
    },
    {
      "cell_type": "markdown",
      "metadata": {
        "id": "iD8j03NBA7dA"
      },
      "source": [
        "####X train - Sem Normalização"
      ]
    },
    {
      "cell_type": "code",
      "execution_count": null,
      "metadata": {
        "colab": {
          "base_uri": "https://localhost:8080/"
        },
        "id": "5TdzGR_UASZE",
        "outputId": "ad70e5bf-3d8b-43dc-f016-1cd9fab74495"
      },
      "outputs": [
        {
          "name": "stdout",
          "output_type": "stream",
          "text": [
            "MSE = 8.523612165955885\n",
            "MAE = 1.8103198384454189\n",
            "R² = 78.69%\n"
          ]
        }
      ],
      "source": [
        "# Treinando o modelo\n",
        "reta = BaggingRegressor()\n",
        "reta.fit(X_train, y_train)\n",
        "y_pred = reta.predict(X_test)\n",
        "\n",
        "# Avaliando o modelo\n",
        "mse = mean_squared_error(y_test, y_pred)\n",
        "mae = mean_absolute_error(y_test, y_pred)\n",
        "r2 = r2_score(y_test, y_pred)\n",
        "\n",
        "print(f\"MSE = {mse}\")\n",
        "print(f\"MAE = {mae}\")\n",
        "print(f\"R² = {r2:.2%}\")"
      ]
    },
    {
      "cell_type": "markdown",
      "metadata": {
        "id": "tYqTCSPBA-R_"
      },
      "source": [
        "####X train - Normalizado"
      ]
    },
    {
      "cell_type": "code",
      "execution_count": null,
      "metadata": {
        "colab": {
          "base_uri": "https://localhost:8080/"
        },
        "id": "DLxEeAGvAp4B",
        "outputId": "47d3acfa-3945-4912-df4a-06794043fd1c"
      },
      "outputs": [
        {
          "name": "stdout",
          "output_type": "stream",
          "text": [
            "MSE = 8.48543659270014\n",
            "MAE = 1.8057306196933314\n",
            "R² = 78.78%\n"
          ]
        }
      ],
      "source": [
        "# Treinar o modelo\n",
        "reta = BaggingRegressor()\n",
        "reta.fit(X_train_norm, y_train)\n",
        "y_pred = reta.predict(X_test_norm)\n",
        "\n",
        "# Avaliar o modelo\n",
        "mse = mean_squared_error(y_test, y_pred)\n",
        "mae = mean_absolute_error(y_test, y_pred)\n",
        "r2 = r2_score(y_test, y_pred)\n",
        "\n",
        "print(f\"MSE = {mse}\")\n",
        "print(f\"MAE = {mae}\")\n",
        "print(f\"R² = {r2:.2%}\")"
      ]
    },
    {
      "cell_type": "markdown",
      "metadata": {
        "id": "EUZ15mOpBABd"
      },
      "source": [
        "####X train - Padronizado"
      ]
    },
    {
      "cell_type": "code",
      "execution_count": null,
      "metadata": {
        "colab": {
          "base_uri": "https://localhost:8080/"
        },
        "id": "Rnn1sTmrAqJB",
        "outputId": "53db7efd-1761-45dc-ca7c-a3b44b6ef8e8"
      },
      "outputs": [
        {
          "name": "stdout",
          "output_type": "stream",
          "text": [
            "MSE = 8.562351378619768\n",
            "MAE = 1.8151688625749158\n",
            "R² = 78.59%\n"
          ]
        }
      ],
      "source": [
        "# Treinar o modelo\n",
        "reta = BaggingRegressor()\n",
        "reta.fit(X_train_scaled, y_train)\n",
        "y_pred = reta.predict(X_test_scaled)\n",
        "\n",
        "# Avaliar o modelo\n",
        "mse = mean_squared_error(y_test, y_pred)\n",
        "mae = mean_absolute_error(y_test, y_pred)\n",
        "r2 = r2_score(y_test, y_pred)\n",
        "\n",
        "print(f\"MSE = {mse}\")\n",
        "print(f\"MAE = {mae}\")\n",
        "print(f\"R² = {r2:.2%}\")"
      ]
    },
    {
      "cell_type": "markdown",
      "metadata": {
        "id": "Faaqf2ntgA9f"
      },
      "source": [
        "##Utilizando o Bagging Regressor, se percebe que teve resultados muito bons, com o score chegando perto dos 80% em todos os tipos de dados utilizados, e a taxa de erro ficou inferior a 10%"
      ]
    },
    {
      "cell_type": "markdown",
      "metadata": {
        "id": "R3Oodw-aVuAX"
      },
      "source": [
        "##Ada Boost Regressor"
      ]
    },
    {
      "cell_type": "code",
      "execution_count": null,
      "metadata": {
        "id": "QRxDPOgRV574"
      },
      "outputs": [],
      "source": [
        "from sklearn.ensemble import AdaBoostRegressor"
      ]
    },
    {
      "cell_type": "markdown",
      "metadata": {
        "id": "Fg1uwK6bVzCz"
      },
      "source": [
        "####X train - Sem Normalização"
      ]
    },
    {
      "cell_type": "code",
      "execution_count": null,
      "metadata": {
        "colab": {
          "base_uri": "https://localhost:8080/"
        },
        "id": "gphB_ysOV4A6",
        "outputId": "bef2dacc-d828-4524-f532-17719e412faa"
      },
      "outputs": [
        {
          "name": "stdout",
          "output_type": "stream",
          "text": [
            "MSE = 23.043112813570524\n",
            "MAE = 3.637515880101122\n",
            "R² = 42.38%\n"
          ]
        }
      ],
      "source": [
        "# Treinando o modelo\n",
        "reta = AdaBoostRegressor()\n",
        "reta.fit(X_train, y_train)\n",
        "y_pred = reta.predict(X_test)\n",
        "\n",
        "# Avaliando o modelo\n",
        "mse = mean_squared_error(y_test, y_pred)\n",
        "mae = mean_absolute_error(y_test, y_pred)\n",
        "r2 = r2_score(y_test, y_pred)\n",
        "\n",
        "print(f\"MSE = {mse}\")\n",
        "print(f\"MAE = {mae}\")\n",
        "print(f\"R² = {r2:.2%}\")"
      ]
    },
    {
      "cell_type": "markdown",
      "metadata": {
        "id": "X5fvA5u_V03k"
      },
      "source": [
        "####X train - Normalizado"
      ]
    },
    {
      "cell_type": "code",
      "execution_count": null,
      "metadata": {
        "colab": {
          "base_uri": "https://localhost:8080/"
        },
        "id": "PikQ72qiXkJl",
        "outputId": "3f65eab8-c1cd-4b10-b61d-0a3c3d86dba9"
      },
      "outputs": [
        {
          "name": "stdout",
          "output_type": "stream",
          "text": [
            "MSE = 22.56479663722263\n",
            "MAE = 3.5877005923467347\n",
            "R² = 43.57%\n"
          ]
        }
      ],
      "source": [
        "# Treinar o modelo\n",
        "reta = AdaBoostRegressor()\n",
        "reta.fit(X_train_norm, y_train)\n",
        "y_pred = reta.predict(X_test_norm)\n",
        "\n",
        "# Avaliar o modelo\n",
        "mse = mean_squared_error(y_test, y_pred)\n",
        "mae = mean_absolute_error(y_test, y_pred)\n",
        "r2 = r2_score(y_test, y_pred)\n",
        "\n",
        "print(f\"MSE = {mse}\")\n",
        "print(f\"MAE = {mae}\")\n",
        "print(f\"R² = {r2:.2%}\")"
      ]
    },
    {
      "cell_type": "markdown",
      "metadata": {
        "id": "HOS4wMqQV2Pg"
      },
      "source": [
        "####X train - Padronizado"
      ]
    },
    {
      "cell_type": "code",
      "execution_count": null,
      "metadata": {
        "colab": {
          "base_uri": "https://localhost:8080/"
        },
        "id": "F0I6bCQRXxxM",
        "outputId": "524c9c08-6dc1-4113-b7e1-a85ee0c250ad"
      },
      "outputs": [
        {
          "name": "stdout",
          "output_type": "stream",
          "text": [
            "MSE = 22.868911471282285\n",
            "MAE = 3.6305311446177906\n",
            "R² = 42.81%\n"
          ]
        }
      ],
      "source": [
        "# Treinar o modelo\n",
        "reta = AdaBoostRegressor()\n",
        "reta.fit(X_train_scaled, y_train)\n",
        "y_pred = reta.predict(X_test_scaled)\n",
        "\n",
        "# Avaliar o modelo\n",
        "mse = mean_squared_error(y_test, y_pred)\n",
        "mae = mean_absolute_error(y_test, y_pred)\n",
        "r2 = r2_score(y_test, y_pred)\n",
        "\n",
        "print(f\"MSE = {mse}\")\n",
        "print(f\"MAE = {mae}\")\n",
        "print(f\"R² = {r2:.2%}\")"
      ]
    },
    {
      "cell_type": "markdown",
      "metadata": {
        "id": "WVVs51hagTwB"
      },
      "source": [
        "##Após utilizar o Ada Boost Regressor, se percebe que não teve bons resultados, tendo o score na cada dos 40%, e tendo uma média de erro nos 20%, ele não se mostrou promissor com nenhum tipo de dado testado"
      ]
    },
    {
      "cell_type": "markdown",
      "metadata": {
        "id": "_wuWRPAvYDIF"
      },
      "source": [
        "##Hist Gradient Boosting Regressor"
      ]
    },
    {
      "cell_type": "code",
      "execution_count": null,
      "metadata": {
        "id": "digFJDDVYpoo"
      },
      "outputs": [],
      "source": [
        "from sklearn.ensemble import HistGradientBoostingRegressor"
      ]
    },
    {
      "cell_type": "markdown",
      "metadata": {
        "id": "gTzGpTlHYhne"
      },
      "source": [
        "####X train - Sem Normalização"
      ]
    },
    {
      "cell_type": "code",
      "execution_count": null,
      "metadata": {
        "colab": {
          "base_uri": "https://localhost:8080/"
        },
        "id": "VOansLW2YqDS",
        "outputId": "b2dc1ad8-734a-459f-dd08-a753b5a2c0ce"
      },
      "outputs": [
        {
          "name": "stdout",
          "output_type": "stream",
          "text": [
            "MSE = 8.390238727381844\n",
            "MAE = 1.9052628808173429\n",
            "R² = 79.02%\n"
          ]
        }
      ],
      "source": [
        "# Treinando o modelo\n",
        "reta = HistGradientBoostingRegressor()\n",
        "reta.fit(X_train, y_train)\n",
        "y_pred = reta.predict(X_test)\n",
        "\n",
        "# Avaliando o modelo\n",
        "mse = mean_squared_error(y_test, y_pred)\n",
        "mae = mean_absolute_error(y_test, y_pred)\n",
        "r2 = r2_score(y_test, y_pred)\n",
        "\n",
        "print(f\"MSE = {mse}\")\n",
        "print(f\"MAE = {mae}\")\n",
        "print(f\"R² = {r2:.2%}\")"
      ]
    },
    {
      "cell_type": "markdown",
      "metadata": {
        "id": "5MvjfJPhYjBf"
      },
      "source": [
        "####X train - Normalizado"
      ]
    },
    {
      "cell_type": "code",
      "execution_count": null,
      "metadata": {
        "colab": {
          "base_uri": "https://localhost:8080/"
        },
        "id": "LTR-i0WTYqTd",
        "outputId": "918ea192-6b21-4d3a-8a2f-e3b7195d4728"
      },
      "outputs": [
        {
          "name": "stdout",
          "output_type": "stream",
          "text": [
            "MSE = 8.34994893593424\n",
            "MAE = 1.9015131089120645\n",
            "R² = 79.12%\n"
          ]
        }
      ],
      "source": [
        "# Treinar o modelo\n",
        "reta = HistGradientBoostingRegressor()\n",
        "reta.fit(X_train_norm, y_train)\n",
        "y_pred = reta.predict(X_test_norm)\n",
        "\n",
        "# Avaliar o modelo\n",
        "mse = mean_squared_error(y_test, y_pred)\n",
        "mae = mean_absolute_error(y_test, y_pred)\n",
        "r2 = r2_score(y_test, y_pred)\n",
        "\n",
        "print(f\"MSE = {mse}\")\n",
        "print(f\"MAE = {mae}\")\n",
        "print(f\"R² = {r2:.2%}\")"
      ]
    },
    {
      "cell_type": "markdown",
      "metadata": {
        "id": "agQjz1HJYlYn"
      },
      "source": [
        "####X train - Padronizado"
      ]
    },
    {
      "cell_type": "code",
      "execution_count": null,
      "metadata": {
        "colab": {
          "base_uri": "https://localhost:8080/"
        },
        "id": "JrghJhexYqnz",
        "outputId": "6f2520b7-d58a-4c57-d05a-559f6d9e4f2b"
      },
      "outputs": [
        {
          "name": "stdout",
          "output_type": "stream",
          "text": [
            "MSE = 8.340710736943969\n",
            "MAE = 1.898680625967198\n",
            "R² = 79.14%\n"
          ]
        }
      ],
      "source": [
        "# Treinar o modelo\n",
        "reta = HistGradientBoostingRegressor()\n",
        "reta.fit(X_train_scaled, y_train)\n",
        "y_pred = reta.predict(X_test_scaled)\n",
        "\n",
        "# Avaliar o modelo\n",
        "mse = mean_squared_error(y_test, y_pred)\n",
        "mae = mean_absolute_error(y_test, y_pred)\n",
        "r2 = r2_score(y_test, y_pred)\n",
        "\n",
        "print(f\"MSE = {mse}\")\n",
        "print(f\"MAE = {mae}\")\n",
        "print(f\"R² = {r2:.2%}\")"
      ]
    },
    {
      "cell_type": "markdown",
      "metadata": {
        "id": "u0bghwFtgwmM"
      },
      "source": [
        "##Após utilizar o Hist Gradient Boosting Regressor, foi percebido um ótimo score, chegando perto dos 80% se mostrou muito promissor, com uma taxa de erro abaixo dos 10%"
      ]
    },
    {
      "cell_type": "markdown",
      "metadata": {
        "id": "0W0If7vahE6O"
      },
      "source": [
        "##Conclusão\n",
        "\n",
        "###Os melhores modelos foram os modelos Bagging Regressor e Hist Gradient Boosting Regressor, mostrando um Score de 80% com uma taxa muito baixa de erro, com uma distinção bem grande comparado ao Ada Boost e ao modelo de Regressão Linear que não passaram dos 40% de precisão."
      ]
    }
  ],
  "metadata": {
    "colab": {
      "provenance": []
    },
    "kernelspec": {
      "display_name": "Python 3",
      "name": "python3"
    },
    "language_info": {
      "name": "python"
    }
  },
  "nbformat": 4,
  "nbformat_minor": 0
}
